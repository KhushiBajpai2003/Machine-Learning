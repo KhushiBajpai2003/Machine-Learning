{
  "cells": [
    {
      "cell_type": "code",
      "execution_count": 1,
      "metadata": {
        "id": "my2biDTGHxms"
      },
      "outputs": [],
      "source": [
        "import pandas as pd\n",
        "import matplotlib.pyplot as plt\n",
        "import seaborn as sns\n",
        "import numpy as np"
      ]
    },
    {
      "cell_type": "code",
      "execution_count": 2,
      "metadata": {
        "id": "8AfX-GAWIE40"
      },
      "outputs": [],
      "source": [
        "df = pd.read_csv(\"data/cars_clus.csv\")"
      ]
    },
    {
      "cell_type": "code",
      "execution_count": 3,
      "metadata": {
        "colab": {
          "base_uri": "https://localhost:8080/",
          "height": 423
        },
        "id": "JHsAEsShIPzN",
        "outputId": "d49f22e7-3575-40f3-ccf4-80a100090562"
      },
      "outputs": [
        {
          "data": {
            "text/html": [
              "<div>\n",
              "<style scoped>\n",
              "    .dataframe tbody tr th:only-of-type {\n",
              "        vertical-align: middle;\n",
              "    }\n",
              "\n",
              "    .dataframe tbody tr th {\n",
              "        vertical-align: top;\n",
              "    }\n",
              "\n",
              "    .dataframe thead th {\n",
              "        text-align: right;\n",
              "    }\n",
              "</style>\n",
              "<table border=\"1\" class=\"dataframe\">\n",
              "  <thead>\n",
              "    <tr style=\"text-align: right;\">\n",
              "      <th></th>\n",
              "      <th>manufact</th>\n",
              "      <th>sales</th>\n",
              "      <th>resale</th>\n",
              "      <th>type</th>\n",
              "      <th>price</th>\n",
              "      <th>engine_s</th>\n",
              "    </tr>\n",
              "  </thead>\n",
              "  <tbody>\n",
              "    <tr>\n",
              "      <th>0</th>\n",
              "      <td>Acura</td>\n",
              "      <td>16.919</td>\n",
              "      <td>16.360</td>\n",
              "      <td>0</td>\n",
              "      <td>21.50</td>\n",
              "      <td>1.8</td>\n",
              "    </tr>\n",
              "    <tr>\n",
              "      <th>1</th>\n",
              "      <td>Acura</td>\n",
              "      <td>39.384</td>\n",
              "      <td>19.875</td>\n",
              "      <td>0</td>\n",
              "      <td>28.40</td>\n",
              "      <td>3.2</td>\n",
              "    </tr>\n",
              "    <tr>\n",
              "      <th>2</th>\n",
              "      <td>Acura</td>\n",
              "      <td>8.588</td>\n",
              "      <td>29.725</td>\n",
              "      <td>0</td>\n",
              "      <td>42.00</td>\n",
              "      <td>3.5</td>\n",
              "    </tr>\n",
              "    <tr>\n",
              "      <th>3</th>\n",
              "      <td>Audi</td>\n",
              "      <td>20.397</td>\n",
              "      <td>22.255</td>\n",
              "      <td>0</td>\n",
              "      <td>23.99</td>\n",
              "      <td>1.8</td>\n",
              "    </tr>\n",
              "    <tr>\n",
              "      <th>4</th>\n",
              "      <td>Audi</td>\n",
              "      <td>18.780</td>\n",
              "      <td>23.555</td>\n",
              "      <td>0</td>\n",
              "      <td>33.95</td>\n",
              "      <td>2.8</td>\n",
              "    </tr>\n",
              "    <tr>\n",
              "      <th>...</th>\n",
              "      <td>...</td>\n",
              "      <td>...</td>\n",
              "      <td>...</td>\n",
              "      <td>...</td>\n",
              "      <td>...</td>\n",
              "      <td>...</td>\n",
              "    </tr>\n",
              "    <tr>\n",
              "      <th>112</th>\n",
              "      <td>Volkswagen</td>\n",
              "      <td>9.761</td>\n",
              "      <td>11.425</td>\n",
              "      <td>0</td>\n",
              "      <td>14.90</td>\n",
              "      <td>2.0</td>\n",
              "    </tr>\n",
              "    <tr>\n",
              "      <th>113</th>\n",
              "      <td>Volkswagen</td>\n",
              "      <td>83.721</td>\n",
              "      <td>13.240</td>\n",
              "      <td>0</td>\n",
              "      <td>16.70</td>\n",
              "      <td>2.0</td>\n",
              "    </tr>\n",
              "    <tr>\n",
              "      <th>114</th>\n",
              "      <td>Volkswagen</td>\n",
              "      <td>51.102</td>\n",
              "      <td>16.725</td>\n",
              "      <td>0</td>\n",
              "      <td>21.20</td>\n",
              "      <td>1.8</td>\n",
              "    </tr>\n",
              "    <tr>\n",
              "      <th>115</th>\n",
              "      <td>Volkswagen</td>\n",
              "      <td>9.569</td>\n",
              "      <td>16.575</td>\n",
              "      <td>0</td>\n",
              "      <td>19.99</td>\n",
              "      <td>2.0</td>\n",
              "    </tr>\n",
              "    <tr>\n",
              "      <th>116</th>\n",
              "      <td>Volkswagen</td>\n",
              "      <td>5.596</td>\n",
              "      <td>13.760</td>\n",
              "      <td>0</td>\n",
              "      <td>17.50</td>\n",
              "      <td>2.0</td>\n",
              "    </tr>\n",
              "  </tbody>\n",
              "</table>\n",
              "<p>117 rows × 6 columns</p>\n",
              "</div>"
            ],
            "text/plain": [
              "       manufact   sales  resale  type  price  engine_s\n",
              "0         Acura  16.919  16.360     0  21.50       1.8\n",
              "1         Acura  39.384  19.875     0  28.40       3.2\n",
              "2         Acura   8.588  29.725     0  42.00       3.5\n",
              "3          Audi  20.397  22.255     0  23.99       1.8\n",
              "4          Audi  18.780  23.555     0  33.95       2.8\n",
              "..          ...     ...     ...   ...    ...       ...\n",
              "112  Volkswagen   9.761  11.425     0  14.90       2.0\n",
              "113  Volkswagen  83.721  13.240     0  16.70       2.0\n",
              "114  Volkswagen  51.102  16.725     0  21.20       1.8\n",
              "115  Volkswagen   9.569  16.575     0  19.99       2.0\n",
              "116  Volkswagen   5.596  13.760     0  17.50       2.0\n",
              "\n",
              "[117 rows x 6 columns]"
            ]
          },
          "execution_count": 3,
          "metadata": {},
          "output_type": "execute_result"
        }
      ],
      "source": [
        "df"
      ]
    },
    {
      "cell_type": "code",
      "execution_count": 4,
      "metadata": {
        "colab": {
          "base_uri": "https://localhost:8080/",
          "height": 300
        },
        "id": "vy7kvF9tIQRf",
        "outputId": "e1eed333-cf38-4ab8-aae5-12ae4c534093"
      },
      "outputs": [
        {
          "data": {
            "text/html": [
              "<div>\n",
              "<style scoped>\n",
              "    .dataframe tbody tr th:only-of-type {\n",
              "        vertical-align: middle;\n",
              "    }\n",
              "\n",
              "    .dataframe tbody tr th {\n",
              "        vertical-align: top;\n",
              "    }\n",
              "\n",
              "    .dataframe thead th {\n",
              "        text-align: right;\n",
              "    }\n",
              "</style>\n",
              "<table border=\"1\" class=\"dataframe\">\n",
              "  <thead>\n",
              "    <tr style=\"text-align: right;\">\n",
              "      <th></th>\n",
              "      <th>sales</th>\n",
              "      <th>resale</th>\n",
              "      <th>type</th>\n",
              "      <th>price</th>\n",
              "      <th>engine_s</th>\n",
              "    </tr>\n",
              "  </thead>\n",
              "  <tbody>\n",
              "    <tr>\n",
              "      <th>count</th>\n",
              "      <td>117.000000</td>\n",
              "      <td>117.000000</td>\n",
              "      <td>117.000000</td>\n",
              "      <td>117.000000</td>\n",
              "      <td>117.000000</td>\n",
              "    </tr>\n",
              "    <tr>\n",
              "      <th>mean</th>\n",
              "      <td>59.112316</td>\n",
              "      <td>18.031538</td>\n",
              "      <td>0.247863</td>\n",
              "      <td>25.969487</td>\n",
              "      <td>3.048718</td>\n",
              "    </tr>\n",
              "    <tr>\n",
              "      <th>std</th>\n",
              "      <td>75.058933</td>\n",
              "      <td>11.605632</td>\n",
              "      <td>0.433629</td>\n",
              "      <td>14.149699</td>\n",
              "      <td>1.055169</td>\n",
              "    </tr>\n",
              "    <tr>\n",
              "      <th>min</th>\n",
              "      <td>0.110000</td>\n",
              "      <td>5.160000</td>\n",
              "      <td>0.000000</td>\n",
              "      <td>9.235000</td>\n",
              "      <td>1.000000</td>\n",
              "    </tr>\n",
              "    <tr>\n",
              "      <th>25%</th>\n",
              "      <td>16.767000</td>\n",
              "      <td>11.240000</td>\n",
              "      <td>0.000000</td>\n",
              "      <td>16.980000</td>\n",
              "      <td>2.200000</td>\n",
              "    </tr>\n",
              "    <tr>\n",
              "      <th>50%</th>\n",
              "      <td>32.299000</td>\n",
              "      <td>14.010000</td>\n",
              "      <td>0.000000</td>\n",
              "      <td>21.665000</td>\n",
              "      <td>3.000000</td>\n",
              "    </tr>\n",
              "    <tr>\n",
              "      <th>75%</th>\n",
              "      <td>76.029000</td>\n",
              "      <td>19.875000</td>\n",
              "      <td>0.000000</td>\n",
              "      <td>29.465000</td>\n",
              "      <td>3.800000</td>\n",
              "    </tr>\n",
              "    <tr>\n",
              "      <th>max</th>\n",
              "      <td>540.561000</td>\n",
              "      <td>67.550000</td>\n",
              "      <td>1.000000</td>\n",
              "      <td>82.600000</td>\n",
              "      <td>8.000000</td>\n",
              "    </tr>\n",
              "  </tbody>\n",
              "</table>\n",
              "</div>"
            ],
            "text/plain": [
              "            sales      resale        type       price    engine_s\n",
              "count  117.000000  117.000000  117.000000  117.000000  117.000000\n",
              "mean    59.112316   18.031538    0.247863   25.969487    3.048718\n",
              "std     75.058933   11.605632    0.433629   14.149699    1.055169\n",
              "min      0.110000    5.160000    0.000000    9.235000    1.000000\n",
              "25%     16.767000   11.240000    0.000000   16.980000    2.200000\n",
              "50%     32.299000   14.010000    0.000000   21.665000    3.000000\n",
              "75%     76.029000   19.875000    0.000000   29.465000    3.800000\n",
              "max    540.561000   67.550000    1.000000   82.600000    8.000000"
            ]
          },
          "execution_count": 4,
          "metadata": {},
          "output_type": "execute_result"
        }
      ],
      "source": [
        "df.describe()"
      ]
    },
    {
      "cell_type": "code",
      "execution_count": 5,
      "metadata": {
        "colab": {
          "base_uri": "https://localhost:8080/"
        },
        "id": "MJb1wgqOIXPC",
        "outputId": "9b19bacd-ec5e-4c89-9e84-c045e3e01d30"
      },
      "outputs": [
        {
          "name": "stdout",
          "output_type": "stream",
          "text": [
            "<class 'pandas.core.frame.DataFrame'>\n",
            "RangeIndex: 117 entries, 0 to 116\n",
            "Data columns (total 6 columns):\n",
            " #   Column    Non-Null Count  Dtype  \n",
            "---  ------    --------------  -----  \n",
            " 0   manufact  117 non-null    object \n",
            " 1   sales     117 non-null    float64\n",
            " 2   resale    117 non-null    float64\n",
            " 3   type      117 non-null    int64  \n",
            " 4   price     117 non-null    float64\n",
            " 5   engine_s  117 non-null    float64\n",
            "dtypes: float64(4), int64(1), object(1)\n",
            "memory usage: 5.6+ KB\n"
          ]
        }
      ],
      "source": [
        "df.info()"
      ]
    },
    {
      "cell_type": "code",
      "execution_count": 6,
      "metadata": {
        "colab": {
          "base_uri": "https://localhost:8080/"
        },
        "id": "AGLXWOg6I8r0",
        "outputId": "7af0b939-23f4-4e9f-e0fe-6d3f70f002cd"
      },
      "outputs": [
        {
          "data": {
            "text/plain": [
              "manufact    0\n",
              "sales       0\n",
              "resale      0\n",
              "type        0\n",
              "price       0\n",
              "engine_s    0\n",
              "dtype: int64"
            ]
          },
          "execution_count": 6,
          "metadata": {},
          "output_type": "execute_result"
        }
      ],
      "source": [
        "df.isnull().sum()"
      ]
    },
    {
      "cell_type": "code",
      "execution_count": 7,
      "metadata": {
        "colab": {
          "base_uri": "https://localhost:8080/"
        },
        "id": "TFHo0FfDI-4z",
        "outputId": "660232a7-29d4-4e0d-a7d9-0d2e506517ac"
      },
      "outputs": [
        {
          "name": "stdout",
          "output_type": "stream",
          "text": [
            "unique number of values in dataset species: 26\n",
            "unique species in carclus dataset: ['Acura' 'Audi' 'BMW' 'Buick' 'Cadillac' 'Chevrolet' 'Chrysler' 'Dodge'\n",
            " 'Ford' 'Honda' 'Hyundai' 'Infiniti' 'Jeep' 'Lexus' 'Lincoln' 'Mitsubishi'\n",
            " 'Mercury' 'Mercedes-Benz' 'Nissan' 'Oldsmobile' 'Plymouth' 'Pontiac'\n",
            " 'Porsche' 'Saturn' 'Toyota' 'Volkswagen']\n"
          ]
        }
      ],
      "source": [
        "print(\"unique number of values in dataset species:\",df[\"manufact\"].nunique())\n",
        "print(\"unique species in carclus dataset:\",df[\"manufact\"].unique())"
      ]
    },
    {
      "cell_type": "code",
      "execution_count": 8,
      "metadata": {
        "colab": {
          "base_uri": "https://localhost:8080/"
        },
        "id": "2Hiu6aMTJOIk",
        "outputId": "5f8d2021-346e-47c7-cf02-060b9244054f"
      },
      "outputs": [
        {
          "name": "stderr",
          "output_type": "stream",
          "text": [
            "C:\\Users\\tusha\\AppData\\Local\\Temp\\ipykernel_14256\\1007377325.py:1: SettingWithCopyWarning: \n",
            "A value is trying to be set on a copy of a slice from a DataFrame\n",
            "\n",
            "See the caveats in the documentation: https://pandas.pydata.org/pandas-docs/stable/user_guide/indexing.html#returning-a-view-versus-a-copy\n",
            "  df.manufact[df.manufact=='Acura']=0\n",
            "C:\\Users\\tusha\\AppData\\Local\\Temp\\ipykernel_14256\\1007377325.py:2: SettingWithCopyWarning: \n",
            "A value is trying to be set on a copy of a slice from a DataFrame\n",
            "\n",
            "See the caveats in the documentation: https://pandas.pydata.org/pandas-docs/stable/user_guide/indexing.html#returning-a-view-versus-a-copy\n",
            "  df.manufact[df.manufact=='Audi']=1\n",
            "C:\\Users\\tusha\\AppData\\Local\\Temp\\ipykernel_14256\\1007377325.py:3: SettingWithCopyWarning: \n",
            "A value is trying to be set on a copy of a slice from a DataFrame\n",
            "\n",
            "See the caveats in the documentation: https://pandas.pydata.org/pandas-docs/stable/user_guide/indexing.html#returning-a-view-versus-a-copy\n",
            "  df.manufact[df.manufact=='BMW']=2\n",
            "C:\\Users\\tusha\\AppData\\Local\\Temp\\ipykernel_14256\\1007377325.py:4: SettingWithCopyWarning: \n",
            "A value is trying to be set on a copy of a slice from a DataFrame\n",
            "\n",
            "See the caveats in the documentation: https://pandas.pydata.org/pandas-docs/stable/user_guide/indexing.html#returning-a-view-versus-a-copy\n",
            "  df.manufact[df.manufact=='Buick']=3\n",
            "C:\\Users\\tusha\\AppData\\Local\\Temp\\ipykernel_14256\\1007377325.py:5: SettingWithCopyWarning: \n",
            "A value is trying to be set on a copy of a slice from a DataFrame\n",
            "\n",
            "See the caveats in the documentation: https://pandas.pydata.org/pandas-docs/stable/user_guide/indexing.html#returning-a-view-versus-a-copy\n",
            "  df.manufact[df.manufact=='Cadillac']=4\n",
            "C:\\Users\\tusha\\AppData\\Local\\Temp\\ipykernel_14256\\1007377325.py:6: SettingWithCopyWarning: \n",
            "A value is trying to be set on a copy of a slice from a DataFrame\n",
            "\n",
            "See the caveats in the documentation: https://pandas.pydata.org/pandas-docs/stable/user_guide/indexing.html#returning-a-view-versus-a-copy\n",
            "  df.manufact[df.manufact=='Chevrolet']=5\n",
            "C:\\Users\\tusha\\AppData\\Local\\Temp\\ipykernel_14256\\1007377325.py:7: SettingWithCopyWarning: \n",
            "A value is trying to be set on a copy of a slice from a DataFrame\n",
            "\n",
            "See the caveats in the documentation: https://pandas.pydata.org/pandas-docs/stable/user_guide/indexing.html#returning-a-view-versus-a-copy\n",
            "  df.manufact[df.manufact=='Chrysler']=6\n",
            "C:\\Users\\tusha\\AppData\\Local\\Temp\\ipykernel_14256\\1007377325.py:8: SettingWithCopyWarning: \n",
            "A value is trying to be set on a copy of a slice from a DataFrame\n",
            "\n",
            "See the caveats in the documentation: https://pandas.pydata.org/pandas-docs/stable/user_guide/indexing.html#returning-a-view-versus-a-copy\n",
            "  df.manufact[df.manufact=='Dodge']=7\n",
            "C:\\Users\\tusha\\AppData\\Local\\Temp\\ipykernel_14256\\1007377325.py:9: SettingWithCopyWarning: \n",
            "A value is trying to be set on a copy of a slice from a DataFrame\n",
            "\n",
            "See the caveats in the documentation: https://pandas.pydata.org/pandas-docs/stable/user_guide/indexing.html#returning-a-view-versus-a-copy\n",
            "  df.manufact[df.manufact=='Ford']=8\n",
            "C:\\Users\\tusha\\AppData\\Local\\Temp\\ipykernel_14256\\1007377325.py:10: SettingWithCopyWarning: \n",
            "A value is trying to be set on a copy of a slice from a DataFrame\n",
            "\n",
            "See the caveats in the documentation: https://pandas.pydata.org/pandas-docs/stable/user_guide/indexing.html#returning-a-view-versus-a-copy\n",
            "  df.manufact[df.manufact=='Honda']=9\n",
            "C:\\Users\\tusha\\AppData\\Local\\Temp\\ipykernel_14256\\1007377325.py:11: SettingWithCopyWarning: \n",
            "A value is trying to be set on a copy of a slice from a DataFrame\n",
            "\n",
            "See the caveats in the documentation: https://pandas.pydata.org/pandas-docs/stable/user_guide/indexing.html#returning-a-view-versus-a-copy\n",
            "  df.manufact[df.manufact=='Hyundai']=10\n",
            "C:\\Users\\tusha\\AppData\\Local\\Temp\\ipykernel_14256\\1007377325.py:12: SettingWithCopyWarning: \n",
            "A value is trying to be set on a copy of a slice from a DataFrame\n",
            "\n",
            "See the caveats in the documentation: https://pandas.pydata.org/pandas-docs/stable/user_guide/indexing.html#returning-a-view-versus-a-copy\n",
            "  df.manufact[df.manufact=='Infiniti']=11\n",
            "C:\\Users\\tusha\\AppData\\Local\\Temp\\ipykernel_14256\\1007377325.py:13: SettingWithCopyWarning: \n",
            "A value is trying to be set on a copy of a slice from a DataFrame\n",
            "\n",
            "See the caveats in the documentation: https://pandas.pydata.org/pandas-docs/stable/user_guide/indexing.html#returning-a-view-versus-a-copy\n",
            "  df.manufact[df.manufact=='Jeep']=12\n",
            "C:\\Users\\tusha\\AppData\\Local\\Temp\\ipykernel_14256\\1007377325.py:14: SettingWithCopyWarning: \n",
            "A value is trying to be set on a copy of a slice from a DataFrame\n",
            "\n",
            "See the caveats in the documentation: https://pandas.pydata.org/pandas-docs/stable/user_guide/indexing.html#returning-a-view-versus-a-copy\n",
            "  df.manufact[df.manufact=='Lincoln' ]=13\n",
            "C:\\Users\\tusha\\AppData\\Local\\Temp\\ipykernel_14256\\1007377325.py:15: SettingWithCopyWarning: \n",
            "A value is trying to be set on a copy of a slice from a DataFrame\n",
            "\n",
            "See the caveats in the documentation: https://pandas.pydata.org/pandas-docs/stable/user_guide/indexing.html#returning-a-view-versus-a-copy\n",
            "  df.manufact[df.manufact=='Mitsubishi']=14\n",
            "C:\\Users\\tusha\\AppData\\Local\\Temp\\ipykernel_14256\\1007377325.py:16: SettingWithCopyWarning: \n",
            "A value is trying to be set on a copy of a slice from a DataFrame\n",
            "\n",
            "See the caveats in the documentation: https://pandas.pydata.org/pandas-docs/stable/user_guide/indexing.html#returning-a-view-versus-a-copy\n",
            "  df.manufact[df.manufact=='Mercury']=15\n",
            "C:\\Users\\tusha\\AppData\\Local\\Temp\\ipykernel_14256\\1007377325.py:17: SettingWithCopyWarning: \n",
            "A value is trying to be set on a copy of a slice from a DataFrame\n",
            "\n",
            "See the caveats in the documentation: https://pandas.pydata.org/pandas-docs/stable/user_guide/indexing.html#returning-a-view-versus-a-copy\n",
            "  df.manufact[df.manufact=='Mercedes-Benz']=16\n",
            "C:\\Users\\tusha\\AppData\\Local\\Temp\\ipykernel_14256\\1007377325.py:18: SettingWithCopyWarning: \n",
            "A value is trying to be set on a copy of a slice from a DataFrame\n",
            "\n",
            "See the caveats in the documentation: https://pandas.pydata.org/pandas-docs/stable/user_guide/indexing.html#returning-a-view-versus-a-copy\n",
            "  df.manufact[df.manufact=='Nissan']=17\n",
            "C:\\Users\\tusha\\AppData\\Local\\Temp\\ipykernel_14256\\1007377325.py:19: SettingWithCopyWarning: \n",
            "A value is trying to be set on a copy of a slice from a DataFrame\n",
            "\n",
            "See the caveats in the documentation: https://pandas.pydata.org/pandas-docs/stable/user_guide/indexing.html#returning-a-view-versus-a-copy\n",
            "  df.manufact[df.manufact=='Oldsmobile']=18\n",
            "C:\\Users\\tusha\\AppData\\Local\\Temp\\ipykernel_14256\\1007377325.py:20: SettingWithCopyWarning: \n",
            "A value is trying to be set on a copy of a slice from a DataFrame\n",
            "\n",
            "See the caveats in the documentation: https://pandas.pydata.org/pandas-docs/stable/user_guide/indexing.html#returning-a-view-versus-a-copy\n",
            "  df.manufact[df.manufact=='Plymouth']=19\n",
            "C:\\Users\\tusha\\AppData\\Local\\Temp\\ipykernel_14256\\1007377325.py:21: SettingWithCopyWarning: \n",
            "A value is trying to be set on a copy of a slice from a DataFrame\n",
            "\n",
            "See the caveats in the documentation: https://pandas.pydata.org/pandas-docs/stable/user_guide/indexing.html#returning-a-view-versus-a-copy\n",
            "  df.manufact[df.manufact=='Pontiac']=20\n",
            "C:\\Users\\tusha\\AppData\\Local\\Temp\\ipykernel_14256\\1007377325.py:22: SettingWithCopyWarning: \n",
            "A value is trying to be set on a copy of a slice from a DataFrame\n",
            "\n",
            "See the caveats in the documentation: https://pandas.pydata.org/pandas-docs/stable/user_guide/indexing.html#returning-a-view-versus-a-copy\n",
            "  df.manufact[df.manufact=='Porsche']=21\n",
            "C:\\Users\\tusha\\AppData\\Local\\Temp\\ipykernel_14256\\1007377325.py:23: SettingWithCopyWarning: \n",
            "A value is trying to be set on a copy of a slice from a DataFrame\n",
            "\n",
            "See the caveats in the documentation: https://pandas.pydata.org/pandas-docs/stable/user_guide/indexing.html#returning-a-view-versus-a-copy\n",
            "  df.manufact[df.manufact=='Saturn']=22\n",
            "C:\\Users\\tusha\\AppData\\Local\\Temp\\ipykernel_14256\\1007377325.py:25: SettingWithCopyWarning: \n",
            "A value is trying to be set on a copy of a slice from a DataFrame\n",
            "\n",
            "See the caveats in the documentation: https://pandas.pydata.org/pandas-docs/stable/user_guide/indexing.html#returning-a-view-versus-a-copy\n",
            "  df.manufact[df.manufact=='Toyota']=23\n",
            "C:\\Users\\tusha\\AppData\\Local\\Temp\\ipykernel_14256\\1007377325.py:26: SettingWithCopyWarning: \n",
            "A value is trying to be set on a copy of a slice from a DataFrame\n",
            "\n",
            "See the caveats in the documentation: https://pandas.pydata.org/pandas-docs/stable/user_guide/indexing.html#returning-a-view-versus-a-copy\n",
            "  df.manufact[df.manufact=='Volkswagen']=24\n",
            "C:\\Users\\tusha\\AppData\\Local\\Temp\\ipykernel_14256\\1007377325.py:27: SettingWithCopyWarning: \n",
            "A value is trying to be set on a copy of a slice from a DataFrame\n",
            "\n",
            "See the caveats in the documentation: https://pandas.pydata.org/pandas-docs/stable/user_guide/indexing.html#returning-a-view-versus-a-copy\n",
            "  df.manufact[df.manufact=='Lexus']=25\n"
          ]
        }
      ],
      "source": [
        "df.manufact[df.manufact=='Acura']=0\n",
        "df.manufact[df.manufact=='Audi']=1\n",
        "df.manufact[df.manufact=='BMW']=2\n",
        "df.manufact[df.manufact=='Buick']=3\n",
        "df.manufact[df.manufact=='Cadillac']=4\n",
        "df.manufact[df.manufact=='Chevrolet']=5\n",
        "df.manufact[df.manufact=='Chrysler']=6\n",
        "df.manufact[df.manufact=='Dodge']=7\n",
        "df.manufact[df.manufact=='Ford']=8\n",
        "df.manufact[df.manufact=='Honda']=9\n",
        "df.manufact[df.manufact=='Hyundai']=10\n",
        "df.manufact[df.manufact=='Infiniti']=11\n",
        "df.manufact[df.manufact=='Jeep']=12\n",
        "df.manufact[df.manufact=='Lincoln' ]=13\n",
        "df.manufact[df.manufact=='Mitsubishi']=14\n",
        "df.manufact[df.manufact=='Mercury']=15\n",
        "df.manufact[df.manufact=='Mercedes-Benz']=16\n",
        "df.manufact[df.manufact=='Nissan']=17\n",
        "df.manufact[df.manufact=='Oldsmobile']=18\n",
        "df.manufact[df.manufact=='Plymouth']=19\n",
        "df.manufact[df.manufact=='Pontiac']=20\n",
        "df.manufact[df.manufact=='Porsche']=21\n",
        "df.manufact[df.manufact=='Saturn']=22\n",
        "\n",
        "df.manufact[df.manufact=='Toyota']=23\n",
        "df.manufact[df.manufact=='Volkswagen']=24\n",
        "df.manufact[df.manufact=='Lexus']=25"
      ]
    },
    {
      "cell_type": "code",
      "execution_count": 9,
      "metadata": {
        "colab": {
          "base_uri": "https://localhost:8080/",
          "height": 262
        },
        "id": "XIKO9zAKMhB4",
        "outputId": "c8bfa2fb-122d-466c-c634-6c7731a164c4"
      },
      "outputs": [
        {
          "data": {
            "text/html": [
              "<div>\n",
              "<style scoped>\n",
              "    .dataframe tbody tr th:only-of-type {\n",
              "        vertical-align: middle;\n",
              "    }\n",
              "\n",
              "    .dataframe tbody tr th {\n",
              "        vertical-align: top;\n",
              "    }\n",
              "\n",
              "    .dataframe thead th {\n",
              "        text-align: right;\n",
              "    }\n",
              "</style>\n",
              "<table border=\"1\" class=\"dataframe\">\n",
              "  <thead>\n",
              "    <tr style=\"text-align: right;\">\n",
              "      <th></th>\n",
              "      <th>manufact</th>\n",
              "      <th>sales</th>\n",
              "      <th>resale</th>\n",
              "      <th>type</th>\n",
              "      <th>price</th>\n",
              "      <th>engine_s</th>\n",
              "    </tr>\n",
              "  </thead>\n",
              "  <tbody>\n",
              "    <tr>\n",
              "      <th>manufact</th>\n",
              "      <td>1.000000</td>\n",
              "      <td>-0.118947</td>\n",
              "      <td>0.084596</td>\n",
              "      <td>0.037327</td>\n",
              "      <td>0.007102</td>\n",
              "      <td>-0.173423</td>\n",
              "    </tr>\n",
              "    <tr>\n",
              "      <th>sales</th>\n",
              "      <td>-0.118947</td>\n",
              "      <td>1.000000</td>\n",
              "      <td>-0.275426</td>\n",
              "      <td>0.278774</td>\n",
              "      <td>-0.251705</td>\n",
              "      <td>0.038111</td>\n",
              "    </tr>\n",
              "    <tr>\n",
              "      <th>resale</th>\n",
              "      <td>0.084596</td>\n",
              "      <td>-0.275426</td>\n",
              "      <td>1.000000</td>\n",
              "      <td>-0.091679</td>\n",
              "      <td>0.954757</td>\n",
              "      <td>0.527187</td>\n",
              "    </tr>\n",
              "    <tr>\n",
              "      <th>type</th>\n",
              "      <td>0.037327</td>\n",
              "      <td>0.278774</td>\n",
              "      <td>-0.091679</td>\n",
              "      <td>1.000000</td>\n",
              "      <td>-0.076303</td>\n",
              "      <td>0.182515</td>\n",
              "    </tr>\n",
              "    <tr>\n",
              "      <th>price</th>\n",
              "      <td>0.007102</td>\n",
              "      <td>-0.251705</td>\n",
              "      <td>0.954757</td>\n",
              "      <td>-0.076303</td>\n",
              "      <td>1.000000</td>\n",
              "      <td>0.649170</td>\n",
              "    </tr>\n",
              "    <tr>\n",
              "      <th>engine_s</th>\n",
              "      <td>-0.173423</td>\n",
              "      <td>0.038111</td>\n",
              "      <td>0.527187</td>\n",
              "      <td>0.182515</td>\n",
              "      <td>0.649170</td>\n",
              "      <td>1.000000</td>\n",
              "    </tr>\n",
              "  </tbody>\n",
              "</table>\n",
              "</div>"
            ],
            "text/plain": [
              "          manufact     sales    resale      type     price  engine_s\n",
              "manufact  1.000000 -0.118947  0.084596  0.037327  0.007102 -0.173423\n",
              "sales    -0.118947  1.000000 -0.275426  0.278774 -0.251705  0.038111\n",
              "resale    0.084596 -0.275426  1.000000 -0.091679  0.954757  0.527187\n",
              "type      0.037327  0.278774 -0.091679  1.000000 -0.076303  0.182515\n",
              "price     0.007102 -0.251705  0.954757 -0.076303  1.000000  0.649170\n",
              "engine_s -0.173423  0.038111  0.527187  0.182515  0.649170  1.000000"
            ]
          },
          "execution_count": 9,
          "metadata": {},
          "output_type": "execute_result"
        }
      ],
      "source": [
        "df.corr()# check correlations in data"
      ]
    },
    {
      "cell_type": "code",
      "execution_count": 10,
      "metadata": {
        "colab": {
          "base_uri": "https://localhost:8080/",
          "height": 661
        },
        "id": "a5_1sdPaMhse",
        "outputId": "38fde917-ed9c-41e4-e44a-aca8ee56c965"
      },
      "outputs": [
        {
          "data": {
            "image/png": "[encoded data removed]",
            "text/plain": [
              "<Figure size 1000x700 with 2 Axes>"
            ]
          },
          "metadata": {},
          "output_type": "display_data"
        }
      ],
      "source": [
        "# Use heatmap to see correlations in data\n",
        "plt.figure(figsize=(10,7))\n",
        "sns.heatmap(df.corr(),annot= True,cmap=\"Oranges\")\n",
        "plt.show()"
      ]
    },
    {
      "cell_type": "code",
      "execution_count": 11,
      "metadata": {
        "colab": {
          "base_uri": "https://localhost:8080/"
        },
        "id": "nD2oa5pyMnsN",
        "outputId": "9967dac5-76d2-49e5-eac8-7fef6818deab"
      },
      "outputs": [
        {
          "data": {
            "text/plain": [
              "array([0, 1, 2, 3, 4, 5, 6, 7, 8, 9, 10, 11, 12, 25, 13, 14, 15, 16, 17,\n",
              "       18, 19, 20, 21, 22, 23, 24], dtype=object)"
            ]
          },
          "execution_count": 11,
          "metadata": {},
          "output_type": "execute_result"
        }
      ],
      "source": [
        "df['manufact'].unique()"
      ]
    },
    {
      "cell_type": "code",
      "execution_count": 12,
      "metadata": {
        "colab": {
          "base_uri": "https://localhost:8080/",
          "height": 206
        },
        "id": "EatXvYCvNjtQ",
        "outputId": "fc4e89c7-e43a-4a08-9228-ad727d23df1d"
      },
      "outputs": [
        {
          "data": {
            "text/html": [
              "<div>\n",
              "<style scoped>\n",
              "    .dataframe tbody tr th:only-of-type {\n",
              "        vertical-align: middle;\n",
              "    }\n",
              "\n",
              "    .dataframe tbody tr th {\n",
              "        vertical-align: top;\n",
              "    }\n",
              "\n",
              "    .dataframe thead th {\n",
              "        text-align: right;\n",
              "    }\n",
              "</style>\n",
              "<table border=\"1\" class=\"dataframe\">\n",
              "  <thead>\n",
              "    <tr style=\"text-align: right;\">\n",
              "      <th></th>\n",
              "      <th>manufact</th>\n",
              "      <th>sales</th>\n",
              "      <th>resale</th>\n",
              "      <th>price</th>\n",
              "      <th>engine_s</th>\n",
              "    </tr>\n",
              "  </thead>\n",
              "  <tbody>\n",
              "    <tr>\n",
              "      <th>0</th>\n",
              "      <td>0</td>\n",
              "      <td>16.919</td>\n",
              "      <td>16.360</td>\n",
              "      <td>21.50</td>\n",
              "      <td>1.8</td>\n",
              "    </tr>\n",
              "    <tr>\n",
              "      <th>1</th>\n",
              "      <td>0</td>\n",
              "      <td>39.384</td>\n",
              "      <td>19.875</td>\n",
              "      <td>28.40</td>\n",
              "      <td>3.2</td>\n",
              "    </tr>\n",
              "    <tr>\n",
              "      <th>2</th>\n",
              "      <td>0</td>\n",
              "      <td>8.588</td>\n",
              "      <td>29.725</td>\n",
              "      <td>42.00</td>\n",
              "      <td>3.5</td>\n",
              "    </tr>\n",
              "    <tr>\n",
              "      <th>3</th>\n",
              "      <td>1</td>\n",
              "      <td>20.397</td>\n",
              "      <td>22.255</td>\n",
              "      <td>23.99</td>\n",
              "      <td>1.8</td>\n",
              "    </tr>\n",
              "    <tr>\n",
              "      <th>4</th>\n",
              "      <td>1</td>\n",
              "      <td>18.780</td>\n",
              "      <td>23.555</td>\n",
              "      <td>33.95</td>\n",
              "      <td>2.8</td>\n",
              "    </tr>\n",
              "  </tbody>\n",
              "</table>\n",
              "</div>"
            ],
            "text/plain": [
              "  manufact   sales  resale  price  engine_s\n",
              "0        0  16.919  16.360  21.50       1.8\n",
              "1        0  39.384  19.875  28.40       3.2\n",
              "2        0   8.588  29.725  42.00       3.5\n",
              "3        1  20.397  22.255  23.99       1.8\n",
              "4        1  18.780  23.555  33.95       2.8"
            ]
          },
          "execution_count": 12,
          "metadata": {},
          "output_type": "execute_result"
        }
      ],
      "source": [
        "x=df.iloc[:,[0,1,2,4,5]]\n",
        "x.head()"
      ]
    },
    {
      "cell_type": "code",
      "execution_count": 13,
      "metadata": {
        "colab": {
          "base_uri": "https://localhost:8080/"
        },
        "id": "gY-C0iUUNljc",
        "outputId": "f7e2bfa0-6f98-42c6-b746-8122f715c043"
      },
      "outputs": [
        {
          "data": {
            "text/plain": [
              "0    0\n",
              "1    0\n",
              "2    0\n",
              "3    0\n",
              "4    0\n",
              "Name: type, dtype: int64"
            ]
          },
          "execution_count": 13,
          "metadata": {},
          "output_type": "execute_result"
        }
      ],
      "source": [
        "y=df.iloc[:,3]\n",
        "y.head()"
      ]
    },
    {
      "cell_type": "code",
      "execution_count": 14,
      "metadata": {
        "id": "wtnwTcjpM7MZ"
      },
      "outputs": [],
      "source": [
        "from sklearn.model_selection import train_test_split\n",
        "x_train, x_test, y_train, y_test = train_test_split(x, y, test_size=0.2, random_state=0)"
      ]
    },
    {
      "cell_type": "code",
      "execution_count": 15,
      "metadata": {
        "colab": {
          "base_uri": "https://localhost:8080/"
        },
        "id": "4oU-oAZuNuRk",
        "outputId": "702a6dc8-a1ba-4bab-e79f-ae85d4244a9b"
      },
      "outputs": [
        {
          "name": "stdout",
          "output_type": "stream",
          "text": [
            "(93, 5)\n",
            "(24, 5)\n",
            "(93,)\n",
            "(24,)\n"
          ]
        }
      ],
      "source": [
        "print(x_train.shape)\n",
        "print(x_test.shape)\n",
        "print(y_train.shape)\n",
        "print(y_test.shape)"
      ]
    },
    {
      "cell_type": "markdown",
      "metadata": {
        "id": "UE2h0O55Ofet"
      },
      "source": [
        "Logistic Regression"
      ]
    },
    {
      "cell_type": "code",
      "execution_count": 16,
      "metadata": {
        "colab": {
          "base_uri": "https://localhost:8080/"
        },
        "id": "L0LHUFH-Nw8j",
        "outputId": "163233f6-945e-4b27-d2cf-dc0fdb6d3cba"
      },
      "outputs": [
        {
          "name": "stdout",
          "output_type": "stream",
          "text": [
            "Logistic Regression applied successfully implemented\n"
          ]
        }
      ],
      "source": [
        "from sklearn.linear_model import LogisticRegression\n",
        "lr = LogisticRegression()\n",
        "lr.fit(x_train,y_train)\n",
        "print(\"Logistic Regression applied successfully implemented\")\n",
        "y_pred = lr.predict(x_test)"
      ]
    },
    {
      "cell_type": "code",
      "execution_count": 17,
      "metadata": {
        "colab": {
          "base_uri": "https://localhost:8080/"
        },
        "id": "lQVo8EXUOXOV",
        "outputId": "9b7fe266-9287-4c70-d7d0-bb49f6ff85e8"
      },
      "outputs": [
        {
          "data": {
            "text/plain": [
              "array([[18,  3],\n",
              "       [ 2,  1]], dtype=int64)"
            ]
          },
          "execution_count": 17,
          "metadata": {},
          "output_type": "execute_result"
        }
      ],
      "source": [
        "from sklearn.metrics import confusion_matrix, accuracy_score,classification_report\n",
        "cm = confusion_matrix(y_test,y_pred)\n",
        "cm"
      ]
    },
    {
      "cell_type": "code",
      "execution_count": 18,
      "metadata": {
        "colab": {
          "base_uri": "https://localhost:8080/"
        },
        "id": "y5lrz01mOZso",
        "outputId": "d66ac20e-4056-4063-e7dd-377b8de908a3"
      },
      "outputs": [
        {
          "name": "stdout",
          "output_type": "stream",
          "text": [
            "accuracy is: 79.16666666666666\n"
          ]
        }
      ],
      "source": [
        "accuracy=accuracy_score(y_test,y_pred)\n",
        "print(\"accuracy is:\",accuracy*100)"
      ]
    },
    {
      "cell_type": "code",
      "execution_count": 19,
      "metadata": {
        "colab": {
          "base_uri": "https://localhost:8080/"
        },
        "id": "6a1uRDrqOcZv",
        "outputId": "28016891-2238-44af-81da-20af8cb9a2db"
      },
      "outputs": [
        {
          "name": "stdout",
          "output_type": "stream",
          "text": [
            "classification Report\n",
            "              precision    recall  f1-score   support\n",
            "\n",
            "           0       0.90      0.86      0.88        21\n",
            "           1       0.25      0.33      0.29         3\n",
            "\n",
            "    accuracy                           0.79        24\n",
            "   macro avg       0.57      0.60      0.58        24\n",
            "weighted avg       0.82      0.79      0.80        24\n",
            "\n"
          ]
        }
      ],
      "source": [
        "print(\"classification Report\")\n",
        "print(classification_report(y_test,y_pred))"
      ]
    },
    {
      "cell_type": "markdown",
      "metadata": {
        "id": "VJKn6PsUOkQn"
      },
      "source": [
        "Random Forest"
      ]
    },
    {
      "cell_type": "code",
      "execution_count": 20,
      "metadata": {
        "colab": {
          "base_uri": "https://localhost:8080/"
        },
        "id": "lhRZkV2XOitI",
        "outputId": "2a7096a2-23a9-4eae-9ea5-9cd12e501c62"
      },
      "outputs": [
        {
          "name": "stdout",
          "output_type": "stream",
          "text": [
            "Random Forest Classifier is successfully implemented\n"
          ]
        }
      ],
      "source": [
        "from sklearn.ensemble import RandomForestClassifier\n",
        "rfc=RandomForestClassifier()\n",
        "rfc.fit(x_train,y_train)\n",
        "print(\"Random Forest Classifier is successfully implemented\")\n",
        "y_pred = rfc.predict(x_test)"
      ]
    },
    {
      "cell_type": "code",
      "execution_count": 21,
      "metadata": {
        "colab": {
          "base_uri": "https://localhost:8080/"
        },
        "id": "Xx-WsQL5On7f",
        "outputId": "1ff3c6c8-fed0-466d-8179-19654b2427dd"
      },
      "outputs": [
        {
          "data": {
            "text/plain": [
              "array([[19,  2],\n",
              "       [ 3,  0]], dtype=int64)"
            ]
          },
          "execution_count": 21,
          "metadata": {},
          "output_type": "execute_result"
        }
      ],
      "source": [
        "cm = confusion_matrix(y_test,y_pred)\n",
        "cm"
      ]
    },
    {
      "cell_type": "code",
      "execution_count": 22,
      "metadata": {
        "colab": {
          "base_uri": "https://localhost:8080/"
        },
        "id": "nmkiaCsKOqDv",
        "outputId": "e8508c56-15d6-4453-c2d8-51b7858186ee"
      },
      "outputs": [
        {
          "name": "stdout",
          "output_type": "stream",
          "text": [
            "accuracy 79.16666666666666\n"
          ]
        }
      ],
      "source": [
        "accuracy=accuracy_score(y_test,y_pred)\n",
        "print(\"accuracy\",accuracy*100)"
      ]
    },
    {
      "cell_type": "code",
      "execution_count": 23,
      "metadata": {
        "colab": {
          "base_uri": "https://localhost:8080/"
        },
        "id": "CwxzabbAOsSu",
        "outputId": "75a3e43e-8dad-442a-8916-44471a84df06"
      },
      "outputs": [
        {
          "name": "stdout",
          "output_type": "stream",
          "text": [
            "Classification Report\n",
            "              precision    recall  f1-score   support\n",
            "\n",
            "           0       0.86      0.90      0.88        21\n",
            "           1       0.00      0.00      0.00         3\n",
            "\n",
            "    accuracy                           0.79        24\n",
            "   macro avg       0.43      0.45      0.44        24\n",
            "weighted avg       0.76      0.79      0.77        24\n",
            "\n"
          ]
        }
      ],
      "source": [
        "print(\"Classification Report\")\n",
        "print(classification_report(y_test,y_pred))"
      ]
    },
    {
      "cell_type": "markdown",
      "metadata": {
        "id": "IsA2phPGOxmK"
      },
      "source": [
        "Decision Tree"
      ]
    },
    {
      "cell_type": "code",
      "execution_count": 24,
      "metadata": {
        "colab": {
          "base_uri": "https://localhost:8080/"
        },
        "id": "duUwzja0Ou29",
        "outputId": "55a70dc8-f79a-4db6-ca35-519f586e51d5"
      },
      "outputs": [
        {
          "name": "stdout",
          "output_type": "stream",
          "text": [
            "Decision Tree Classifier is successfully implemented\n"
          ]
        }
      ],
      "source": [
        "from sklearn.tree import DecisionTreeClassifier\n",
        "dtree = DecisionTreeClassifier()\n",
        "\n",
        "dtree.fit(x_train,y_train)\n",
        "print(\"Decision Tree Classifier is successfully implemented\")\n",
        "y_pred=dtree.predict(x_test)"
      ]
    },
    {
      "cell_type": "code",
      "execution_count": 25,
      "metadata": {
        "colab": {
          "base_uri": "https://localhost:8080/"
        },
        "id": "I5GB92vDO0Vm",
        "outputId": "05812f6c-725d-4633-c247-40e6177c219f"
      },
      "outputs": [
        {
          "name": "stdout",
          "output_type": "stream",
          "text": [
            "Confusion Matrix\n"
          ]
        },
        {
          "data": {
            "text/plain": [
              "array([[15,  6],\n",
              "       [ 2,  1]], dtype=int64)"
            ]
          },
          "execution_count": 25,
          "metadata": {},
          "output_type": "execute_result"
        }
      ],
      "source": [
        "print(\"Confusion Matrix\")\n",
        "cm=confusion_matrix(y_test,y_pred)\n",
        "cm"
      ]
    },
    {
      "cell_type": "code",
      "execution_count": 26,
      "metadata": {
        "colab": {
          "base_uri": "https://localhost:8080/"
        },
        "id": "g3xkUeBLO2f4",
        "outputId": "2fafa317-c3b9-4cd0-84eb-0b49d8f79e19"
      },
      "outputs": [
        {
          "name": "stdout",
          "output_type": "stream",
          "text": [
            "Accuracy: 66.66666666666666\n"
          ]
        }
      ],
      "source": [
        "accuracy=accuracy_score(y_test,y_pred)\n",
        "print(\"Accuracy:\",accuracy*100)"
      ]
    },
    {
      "cell_type": "code",
      "execution_count": 27,
      "metadata": {
        "colab": {
          "base_uri": "https://localhost:8080/"
        },
        "id": "dlzWaqREO4wL",
        "outputId": "30e485e3-2b02-4629-b938-194222ea499d"
      },
      "outputs": [
        {
          "name": "stdout",
          "output_type": "stream",
          "text": [
            "Classification Report\n",
            "              precision    recall  f1-score   support\n",
            "\n",
            "           0       0.88      0.71      0.79        21\n",
            "           1       0.14      0.33      0.20         3\n",
            "\n",
            "    accuracy                           0.67        24\n",
            "   macro avg       0.51      0.52      0.49        24\n",
            "weighted avg       0.79      0.67      0.72        24\n",
            "\n"
          ]
        }
      ],
      "source": [
        "print(\"Classification Report\")\n",
        "print(classification_report(y_test,y_pred))"
      ]
    },
    {
      "cell_type": "markdown",
      "metadata": {
        "id": "QwrLlDGNO_Ch"
      },
      "source": [
        "Support Vector Machine"
      ]
    },
    {
      "cell_type": "code",
      "execution_count": 28,
      "metadata": {
        "colab": {
          "base_uri": "https://localhost:8080/"
        },
        "id": "3ulQVSmbO6Xh",
        "outputId": "1d4c5b69-a058-4de5-979f-b73dbea41769"
      },
      "outputs": [
        {
          "name": "stdout",
          "output_type": "stream",
          "text": [
            "SVC is implemented successfully\n"
          ]
        }
      ],
      "source": [
        "from sklearn.svm import SVC\n",
        "svc=SVC()\n",
        "\n",
        "svc.fit(x_train,y_train)\n",
        "print(\"SVC is implemented successfully\")\n",
        "y_pred=svc.predict(x_test)"
      ]
    },
    {
      "cell_type": "code",
      "execution_count": 29,
      "metadata": {
        "colab": {
          "base_uri": "https://localhost:8080/"
        },
        "id": "Uc-7VxOXPCeH",
        "outputId": "da3579c7-a477-4dbc-8c03-1303c1730917"
      },
      "outputs": [
        {
          "name": "stdout",
          "output_type": "stream",
          "text": [
            "Confusion Matrix\n"
          ]
        },
        {
          "data": {
            "text/plain": [
              "array([[21,  0],\n",
              "       [ 3,  0]], dtype=int64)"
            ]
          },
          "execution_count": 29,
          "metadata": {},
          "output_type": "execute_result"
        }
      ],
      "source": [
        "print(\"Confusion Matrix\")\n",
        "cm=confusion_matrix(y_test,y_pred)\n",
        "cm"
      ]
    },
    {
      "cell_type": "code",
      "execution_count": 30,
      "metadata": {
        "colab": {
          "base_uri": "https://localhost:8080/"
        },
        "id": "FyFNEAAePEUo",
        "outputId": "a8893d6f-ca58-4787-d3ec-1f8e870ab6c0"
      },
      "outputs": [
        {
          "name": "stdout",
          "output_type": "stream",
          "text": [
            "Accuracy 87.5\n"
          ]
        }
      ],
      "source": [
        "accuracy=accuracy_score(y_test,y_pred)\n",
        "print(\"Accuracy\",accuracy*100)"
      ]
    },
    {
      "cell_type": "code",
      "execution_count": 31,
      "metadata": {
        "colab": {
          "base_uri": "https://localhost:8080/"
        },
        "id": "sAWIYJUiPGCN",
        "outputId": "c06f2cfd-2a4f-4387-ea11-6577a9cadabb"
      },
      "outputs": [
        {
          "name": "stdout",
          "output_type": "stream",
          "text": [
            "Classification Report\n",
            "              precision    recall  f1-score   support\n",
            "\n",
            "           0       0.88      1.00      0.93        21\n",
            "           1       0.00      0.00      0.00         3\n",
            "\n",
            "    accuracy                           0.88        24\n",
            "   macro avg       0.44      0.50      0.47        24\n",
            "weighted avg       0.77      0.88      0.82        24\n",
            "\n"
          ]
        },
        {
          "name": "stderr",
          "output_type": "stream",
          "text": [
            "c:\\Users\\tusha\\anaconda3\\Lib\\site-packages\\sklearn\\metrics\\_classification.py:1469: UndefinedMetricWarning: Precision and F-score are ill-defined and being set to 0.0 in labels with no predicted samples. Use `zero_division` parameter to control this behavior.\n",
            "  _warn_prf(average, modifier, msg_start, len(result))\n",
            "c:\\Users\\tusha\\anaconda3\\Lib\\site-packages\\sklearn\\metrics\\_classification.py:1469: UndefinedMetricWarning: Precision and F-score are ill-defined and being set to 0.0 in labels with no predicted samples. Use `zero_division` parameter to control this behavior.\n",
            "  _warn_prf(average, modifier, msg_start, len(result))\n",
            "c:\\Users\\tusha\\anaconda3\\Lib\\site-packages\\sklearn\\metrics\\_classification.py:1469: UndefinedMetricWarning: Precision and F-score are ill-defined and being set to 0.0 in labels with no predicted samples. Use `zero_division` parameter to control this behavior.\n",
            "  _warn_prf(average, modifier, msg_start, len(result))\n"
          ]
        }
      ],
      "source": [
        "print(\"Classification Report\")\n",
        "print(classification_report(y_test,y_pred))"
      ]
    },
    {
      "cell_type": "markdown",
      "metadata": {
        "id": "CxpGfbE9PLZU"
      },
      "source": [
        "K nearest neighbors"
      ]
    },
    {
      "cell_type": "code",
      "execution_count": 32,
      "metadata": {
        "colab": {
          "base_uri": "https://localhost:8080/"
        },
        "id": "_IK43GBvPIVC",
        "outputId": "4fbc4159-7d42-4303-aae6-12b5db37c828"
      },
      "outputs": [
        {
          "name": "stdout",
          "output_type": "stream",
          "text": [
            "The KNeighborsClassifier is successfully implemented\n"
          ]
        }
      ],
      "source": [
        "from sklearn.neighbors import KNeighborsClassifier\n",
        "knn=KNeighborsClassifier(n_neighbors=5)\n",
        "\n",
        "knn.fit(x_train,y_train)\n",
        "print(\"The KNeighborsClassifier is successfully implemented\")"
      ]
    },
    {
      "cell_type": "code",
      "execution_count": 33,
      "metadata": {
        "colab": {
          "base_uri": "https://localhost:8080/"
        },
        "id": "AQ3UBUGYPSNs",
        "outputId": "d35b686e-9870-4672-9d0d-4988535ffcf4"
      },
      "outputs": [
        {
          "name": "stdout",
          "output_type": "stream",
          "text": [
            "Confusion Matrix\n",
            "[[21  0]\n",
            " [ 3  0]]\n"
          ]
        }
      ],
      "source": [
        "print(\"Confusion Matrix\")\n",
        "print(confusion_matrix(y_test,y_pred))"
      ]
    },
    {
      "cell_type": "code",
      "execution_count": 34,
      "metadata": {
        "colab": {
          "base_uri": "https://localhost:8080/"
        },
        "id": "A3QK8wLCPUTx",
        "outputId": "eb912a8e-77d4-45b7-fe5c-b26d677a1f03"
      },
      "outputs": [
        {
          "name": "stdout",
          "output_type": "stream",
          "text": [
            "Accuracy: 87.5\n"
          ]
        }
      ],
      "source": [
        "accuracy=accuracy_score(y_test,y_pred)\n",
        "print(\"Accuracy:\",accuracy*100)"
      ]
    },
    {
      "cell_type": "code",
      "execution_count": 35,
      "metadata": {
        "colab": {
          "base_uri": "https://localhost:8080/"
        },
        "id": "F5Wt2nmnPU7V",
        "outputId": "eef6e34e-7efe-417f-ecd4-ab0e1c2ef786"
      },
      "outputs": [
        {
          "name": "stdout",
          "output_type": "stream",
          "text": [
            "Classification Report\n",
            "              precision    recall  f1-score   support\n",
            "\n",
            "           0       0.88      1.00      0.93        21\n",
            "           1       0.00      0.00      0.00         3\n",
            "\n",
            "    accuracy                           0.88        24\n",
            "   macro avg       0.44      0.50      0.47        24\n",
            "weighted avg       0.77      0.88      0.82        24\n",
            "\n"
          ]
        },
        {
          "name": "stderr",
          "output_type": "stream",
          "text": [
            "c:\\Users\\tusha\\anaconda3\\Lib\\site-packages\\sklearn\\metrics\\_classification.py:1469: UndefinedMetricWarning: Precision and F-score are ill-defined and being set to 0.0 in labels with no predicted samples. Use `zero_division` parameter to control this behavior.\n",
            "  _warn_prf(average, modifier, msg_start, len(result))\n",
            "c:\\Users\\tusha\\anaconda3\\Lib\\site-packages\\sklearn\\metrics\\_classification.py:1469: UndefinedMetricWarning: Precision and F-score are ill-defined and being set to 0.0 in labels with no predicted samples. Use `zero_division` parameter to control this behavior.\n",
            "  _warn_prf(average, modifier, msg_start, len(result))\n",
            "c:\\Users\\tusha\\anaconda3\\Lib\\site-packages\\sklearn\\metrics\\_classification.py:1469: UndefinedMetricWarning: Precision and F-score are ill-defined and being set to 0.0 in labels with no predicted samples. Use `zero_division` parameter to control this behavior.\n",
            "  _warn_prf(average, modifier, msg_start, len(result))\n"
          ]
        }
      ],
      "source": [
        "print(\"Classification Report\")\n",
        "print(classification_report(y_test,y_pred))"
      ]
    },
    {
      "cell_type": "markdown",
      "metadata": {
        "id": "nwszLNqBPYx9"
      },
      "source": [
        "Naive Bayes"
      ]
    },
    {
      "cell_type": "code",
      "execution_count": 36,
      "metadata": {
        "colab": {
          "base_uri": "https://localhost:8080/"
        },
        "id": "hnMD-sj8PXEH",
        "outputId": "b67d070f-a1ad-4be2-8d62-8b0763e44ee4"
      },
      "outputs": [
        {
          "name": "stdout",
          "output_type": "stream",
          "text": [
            "Naive Bayes is successfully implemented\n"
          ]
        }
      ],
      "source": [
        "from sklearn.naive_bayes import GaussianNB\n",
        "gnb=GaussianNB()\n",
        "\n",
        "gnb.fit(x_train,y_train)\n",
        "print(\"Naive Bayes is successfully implemented\")\n",
        "y_pred = gnb.predict(x_test)"
      ]
    },
    {
      "cell_type": "code",
      "execution_count": 37,
      "metadata": {
        "colab": {
          "base_uri": "https://localhost:8080/"
        },
        "id": "DvytDTDZPb4n",
        "outputId": "7ee18af1-5c1f-4a75-b203-9adec6279d0f"
      },
      "outputs": [
        {
          "name": "stdout",
          "output_type": "stream",
          "text": [
            "Confusion Matrix\n",
            "[[16  5]\n",
            " [ 1  2]]\n"
          ]
        }
      ],
      "source": [
        "print(\"Confusion Matrix\")\n",
        "print(confusion_matrix(y_test,y_pred))"
      ]
    },
    {
      "cell_type": "code",
      "execution_count": 38,
      "metadata": {
        "colab": {
          "base_uri": "https://localhost:8080/"
        },
        "id": "MVcA31_VPd7P",
        "outputId": "1f26e5f1-fc00-4374-a362-b94209269d5a"
      },
      "outputs": [
        {
          "name": "stdout",
          "output_type": "stream",
          "text": [
            "Accuracy: 75.0\n"
          ]
        }
      ],
      "source": [
        "accuracy=accuracy_score(y_test,y_pred)\n",
        "print(\"Accuracy:\",accuracy*100)"
      ]
    },
    {
      "cell_type": "code",
      "execution_count": 39,
      "metadata": {
        "colab": {
          "base_uri": "https://localhost:8080/"
        },
        "id": "UZrSsvMcWl1P",
        "outputId": "fa10642c-3873-452c-bdcd-b372b3ce32c2"
      },
      "outputs": [
        {
          "name": "stdout",
          "output_type": "stream",
          "text": [
            "Classification Report\n",
            "              precision    recall  f1-score   support\n",
            "\n",
            "           0       0.94      0.76      0.84        21\n",
            "           1       0.29      0.67      0.40         3\n",
            "\n",
            "    accuracy                           0.75        24\n",
            "   macro avg       0.61      0.71      0.62        24\n",
            "weighted avg       0.86      0.75      0.79        24\n",
            "\n"
          ]
        }
      ],
      "source": [
        "print(\"Classification Report\")\n",
        "print(classification_report(y_test,y_pred))"
      ]
    },
    {
      "cell_type": "code",
      "execution_count": 40,
      "metadata": {
        "colab": {
          "base_uri": "https://localhost:8080/",
          "height": 507
        },
        "id": "Fhkc6q4KPh4H",
        "outputId": "438d8608-d6e7-4b7d-e6e4-c926975f08ec"
      },
      "outputs": [
        {
          "data": {
            "image/png": "[encoded data removed]",
            "text/plain": [
              "<Figure size 1000x500 with 2 Axes>"
            ]
          },
          "metadata": {},
          "output_type": "display_data"
        }
      ],
      "source": [
        "plt.figure(figsize=(10,5))\n",
        "corr_target= df.drop(\"type\", axis=1)\n",
        "sns.heatmap(df.corr(),annot=True,cmap='Blues',fmt='.2f',linewidths=2)\n",
        "plt.show()"
      ]
    },
    {
      "cell_type": "code",
      "execution_count": 41,
      "metadata": {
        "colab": {
          "base_uri": "https://localhost:8080/",
          "height": 423
        },
        "id": "RvZqocuHPxY7",
        "outputId": "345bcd23-86f9-4793-ebfc-92c143bb5839"
      },
      "outputs": [
        {
          "data": {
            "text/html": [
              "<div>\n",
              "<style scoped>\n",
              "    .dataframe tbody tr th:only-of-type {\n",
              "        vertical-align: middle;\n",
              "    }\n",
              "\n",
              "    .dataframe tbody tr th {\n",
              "        vertical-align: top;\n",
              "    }\n",
              "\n",
              "    .dataframe thead th {\n",
              "        text-align: right;\n",
              "    }\n",
              "</style>\n",
              "<table border=\"1\" class=\"dataframe\">\n",
              "  <thead>\n",
              "    <tr style=\"text-align: right;\">\n",
              "      <th></th>\n",
              "      <th>manufact</th>\n",
              "      <th>type</th>\n",
              "      <th>engine_s</th>\n",
              "    </tr>\n",
              "  </thead>\n",
              "  <tbody>\n",
              "    <tr>\n",
              "      <th>0</th>\n",
              "      <td>0</td>\n",
              "      <td>0</td>\n",
              "      <td>1.8</td>\n",
              "    </tr>\n",
              "    <tr>\n",
              "      <th>1</th>\n",
              "      <td>0</td>\n",
              "      <td>0</td>\n",
              "      <td>3.2</td>\n",
              "    </tr>\n",
              "    <tr>\n",
              "      <th>2</th>\n",
              "      <td>0</td>\n",
              "      <td>0</td>\n",
              "      <td>3.5</td>\n",
              "    </tr>\n",
              "    <tr>\n",
              "      <th>3</th>\n",
              "      <td>1</td>\n",
              "      <td>0</td>\n",
              "      <td>1.8</td>\n",
              "    </tr>\n",
              "    <tr>\n",
              "      <th>4</th>\n",
              "      <td>1</td>\n",
              "      <td>0</td>\n",
              "      <td>2.8</td>\n",
              "    </tr>\n",
              "    <tr>\n",
              "      <th>...</th>\n",
              "      <td>...</td>\n",
              "      <td>...</td>\n",
              "      <td>...</td>\n",
              "    </tr>\n",
              "    <tr>\n",
              "      <th>112</th>\n",
              "      <td>24</td>\n",
              "      <td>0</td>\n",
              "      <td>2.0</td>\n",
              "    </tr>\n",
              "    <tr>\n",
              "      <th>113</th>\n",
              "      <td>24</td>\n",
              "      <td>0</td>\n",
              "      <td>2.0</td>\n",
              "    </tr>\n",
              "    <tr>\n",
              "      <th>114</th>\n",
              "      <td>24</td>\n",
              "      <td>0</td>\n",
              "      <td>1.8</td>\n",
              "    </tr>\n",
              "    <tr>\n",
              "      <th>115</th>\n",
              "      <td>24</td>\n",
              "      <td>0</td>\n",
              "      <td>2.0</td>\n",
              "    </tr>\n",
              "    <tr>\n",
              "      <th>116</th>\n",
              "      <td>24</td>\n",
              "      <td>0</td>\n",
              "      <td>2.0</td>\n",
              "    </tr>\n",
              "  </tbody>\n",
              "</table>\n",
              "<p>117 rows × 3 columns</p>\n",
              "</div>"
            ],
            "text/plain": [
              "    manufact  type  engine_s\n",
              "0          0     0       1.8\n",
              "1          0     0       3.2\n",
              "2          0     0       3.5\n",
              "3          1     0       1.8\n",
              "4          1     0       2.8\n",
              "..       ...   ...       ...\n",
              "112       24     0       2.0\n",
              "113       24     0       2.0\n",
              "114       24     0       1.8\n",
              "115       24     0       2.0\n",
              "116       24     0       2.0\n",
              "\n",
              "[117 rows x 3 columns]"
            ]
          },
          "execution_count": 41,
          "metadata": {},
          "output_type": "execute_result"
        }
      ],
      "source": [
        "X=df.drop(['sales','resale','price'],axis=1)\n",
        "X"
      ]
    },
    {
      "cell_type": "markdown",
      "metadata": {
        "id": "_SFfVETEQKkQ"
      },
      "source": [
        "K Means Algorithm  "
      ]
    },
    {
      "cell_type": "code",
      "execution_count": 42,
      "metadata": {
        "colab": {
          "base_uri": "https://localhost:8080/",
          "height": 452
        },
        "id": "XCve8nQHQFB9",
        "outputId": "e40dc800-97be-480b-9640-c3e6194df663"
      },
      "outputs": [
        {
          "name": "stderr",
          "output_type": "stream",
          "text": [
            "c:\\Users\\tusha\\anaconda3\\Lib\\site-packages\\sklearn\\cluster\\_kmeans.py:1436: UserWarning: KMeans is known to have a memory leak on Windows with MKL, when there are less chunks than available threads. You can avoid it by setting the environment variable OMP_NUM_THREADS=1.\n",
            "  warnings.warn(\n",
            "c:\\Users\\tusha\\anaconda3\\Lib\\site-packages\\sklearn\\cluster\\_kmeans.py:1436: UserWarning: KMeans is known to have a memory leak on Windows with MKL, when there are less chunks than available threads. You can avoid it by setting the environment variable OMP_NUM_THREADS=1.\n",
            "  warnings.warn(\n",
            "c:\\Users\\tusha\\anaconda3\\Lib\\site-packages\\sklearn\\cluster\\_kmeans.py:1436: UserWarning: KMeans is known to have a memory leak on Windows with MKL, when there are less chunks than available threads. You can avoid it by setting the environment variable OMP_NUM_THREADS=1.\n",
            "  warnings.warn(\n",
            "c:\\Users\\tusha\\anaconda3\\Lib\\site-packages\\sklearn\\cluster\\_kmeans.py:1436: UserWarning: KMeans is known to have a memory leak on Windows with MKL, when there are less chunks than available threads. You can avoid it by setting the environment variable OMP_NUM_THREADS=1.\n",
            "  warnings.warn(\n",
            "c:\\Users\\tusha\\anaconda3\\Lib\\site-packages\\sklearn\\cluster\\_kmeans.py:1436: UserWarning: KMeans is known to have a memory leak on Windows with MKL, when there are less chunks than available threads. You can avoid it by setting the environment variable OMP_NUM_THREADS=1.\n",
            "  warnings.warn(\n",
            "c:\\Users\\tusha\\anaconda3\\Lib\\site-packages\\sklearn\\cluster\\_kmeans.py:1436: UserWarning: KMeans is known to have a memory leak on Windows with MKL, when there are less chunks than available threads. You can avoid it by setting the environment variable OMP_NUM_THREADS=1.\n",
            "  warnings.warn(\n",
            "c:\\Users\\tusha\\anaconda3\\Lib\\site-packages\\sklearn\\cluster\\_kmeans.py:1436: UserWarning: KMeans is known to have a memory leak on Windows with MKL, when there are less chunks than available threads. You can avoid it by setting the environment variable OMP_NUM_THREADS=1.\n",
            "  warnings.warn(\n",
            "c:\\Users\\tusha\\anaconda3\\Lib\\site-packages\\sklearn\\cluster\\_kmeans.py:1436: UserWarning: KMeans is known to have a memory leak on Windows with MKL, when there are less chunks than available threads. You can avoid it by setting the environment variable OMP_NUM_THREADS=1.\n",
            "  warnings.warn(\n",
            "c:\\Users\\tusha\\anaconda3\\Lib\\site-packages\\sklearn\\cluster\\_kmeans.py:1436: UserWarning: KMeans is known to have a memory leak on Windows with MKL, when there are less chunks than available threads. You can avoid it by setting the environment variable OMP_NUM_THREADS=1.\n",
            "  warnings.warn(\n",
            "c:\\Users\\tusha\\anaconda3\\Lib\\site-packages\\sklearn\\cluster\\_kmeans.py:1436: UserWarning: KMeans is known to have a memory leak on Windows with MKL, when there are less chunks than available threads. You can avoid it by setting the environment variable OMP_NUM_THREADS=1.\n",
            "  warnings.warn(\n"
          ]
        },
        {
          "data": {
            "image/png": "[encoded data removed]",
            "text/plain": [
              "<Figure size 640x480 with 1 Axes>"
            ]
          },
          "metadata": {},
          "output_type": "display_data"
        }
      ],
      "source": [
        "from sklearn.cluster import KMeans\n",
        "wcss=[]\n",
        "for i in range(1,11):\n",
        "    kmeans=KMeans(n_clusters=i,n_init=10)\n",
        "    kmeans.fit(X)\n",
        "    wcss.append(kmeans.inertia_)\n",
        "plt.plot(range(1,11),wcss,marker=\"8\")\n",
        "plt.title('Elbow Curve')\n",
        "plt.show()"
      ]
    },
    {
      "cell_type": "code",
      "execution_count": 43,
      "metadata": {
        "colab": {
          "base_uri": "https://localhost:8080/"
        },
        "id": "x3U6TV0kQHNp",
        "outputId": "4e1d341a-b021-43b0-9773-0d313cc088cc"
      },
      "outputs": [
        {
          "name": "stderr",
          "output_type": "stream",
          "text": [
            "c:\\Users\\tusha\\anaconda3\\Lib\\site-packages\\sklearn\\cluster\\_kmeans.py:1436: UserWarning: KMeans is known to have a memory leak on Windows with MKL, when there are less chunks than available threads. You can avoid it by setting the environment variable OMP_NUM_THREADS=1.\n",
            "  warnings.warn(\n"
          ]
        },
        {
          "name": "stdout",
          "output_type": "stream",
          "text": [
            "[0 0 0 0 0 0 0 0 0 0 0 0 0 0 0 0 0 0 0 0 0 0 0 0 0 0 0 0 0 0 0 0 0 0 0 0 0\n",
            " 0 0 0 0 0 0 0 0 0 0 0 0 0 0 0 0 0 0 1 1 1 1 2 2 2 1 1 1 1 1 1 1 1 1 1 1 1\n",
            " 1 1 1 1 1 1 1 1 1 1 1 1 1 1 1 1 2 2 2 2 2 2 2 2 2 2 2 2 2 2 2 2 2 2 2 2 2\n",
            " 2 2 2 2 2 2]\n"
          ]
        }
      ],
      "source": [
        "kmeans=KMeans(n_clusters=3,n_init=10)\n",
        "label=kmeans.fit_predict(X)\n",
        "print(label)"
      ]
    },
    {
      "cell_type": "code",
      "execution_count": 44,
      "metadata": {
        "colab": {
          "base_uri": "https://localhost:8080/"
        },
        "id": "oRm7To8oQOuM",
        "outputId": "f1206ed8-e4b1-4921-f006-1089993fb85b"
      },
      "outputs": [
        {
          "name": "stdout",
          "output_type": "stream",
          "text": [
            "[[ 5.8         0.23636364  3.14363636]\n",
            " [15.0625      0.34375     3.26875   ]\n",
            " [22.16666667  0.16666667  2.64      ]]\n"
          ]
        }
      ],
      "source": [
        "print(kmeans.cluster_centers_)\n"
      ]
    },
    {
      "cell_type": "code",
      "execution_count": 45,
      "metadata": {
        "colab": {
          "base_uri": "https://localhost:8080/"
        },
        "id": "5P6eT6zKWxmw",
        "outputId": "ec3eb2f1-f40f-4e65-a524-2b66c7ea2e05"
      },
      "outputs": [
        {
          "name": "stdout",
          "output_type": "stream",
          "text": [
            "Accuracy: 75.0\n"
          ]
        }
      ],
      "source": [
        "accuracy=accuracy_score(y_test,y_pred)\n",
        "print(\"Accuracy:\",accuracy*100)"
      ]
    },
    {
      "cell_type": "code",
      "execution_count": 46,
      "metadata": {
        "colab": {
          "base_uri": "https://localhost:8080/"
        },
        "id": "Luo078hgWyN9",
        "outputId": "7dde3343-2e62-46d4-a7fc-50c0b41055db"
      },
      "outputs": [
        {
          "name": "stdout",
          "output_type": "stream",
          "text": [
            "Classification Report\n",
            "              precision    recall  f1-score   support\n",
            "\n",
            "           0       0.94      0.76      0.84        21\n",
            "           1       0.29      0.67      0.40         3\n",
            "\n",
            "    accuracy                           0.75        24\n",
            "   macro avg       0.61      0.71      0.62        24\n",
            "weighted avg       0.86      0.75      0.79        24\n",
            "\n"
          ]
        }
      ],
      "source": [
        "print(\"Classification Report\")\n",
        "print(classification_report(y_test,y_pred))"
      ]
    }
  ],
  "metadata": {
    "colab": {
      "provenance": []
    },
    "kernelspec": {
      "display_name": "Python 3",
      "name": "python3"
    },
    "language_info": {
      "codemirror_mode": {
        "name": "ipython",
        "version": 3
      },
      "file_extension": ".py",
      "mimetype": "text/x-python",
      "name": "python",
      "nbconvert_exporter": "python",
      "pygments_lexer": "ipython3",
      "version": "3.11.5"
    }
  },
  "nbformat": 4,
  "nbformat_minor": 0
}
