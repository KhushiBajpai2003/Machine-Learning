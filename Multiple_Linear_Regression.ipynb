{
  "cells": [
    {
      "cell_type": "code",
      "execution_count": 1,
      "metadata": {
        "id": "kpuY-vVWQf7C"
      },
      "outputs": [],
      "source": [
        "import pandas as pd\n",
        "df = pd.read_csv(\"data/insurance.csv\")"
      ]
    },
    {
      "cell_type": "code",
      "execution_count": 2,
      "metadata": {
        "colab": {
          "base_uri": "https://localhost:8080/",
          "height": 300
        },
        "id": "X3h2yeqdQrM_",
        "outputId": "4df5aba8-c16a-40ba-cc17-ff49c8440fc7"
      },
      "outputs": [
        {
          "data": {
            "text/html": [
              "<div>\n",
              "<style scoped>\n",
              "    .dataframe tbody tr th:only-of-type {\n",
              "        vertical-align: middle;\n",
              "    }\n",
              "\n",
              "    .dataframe tbody tr th {\n",
              "        vertical-align: top;\n",
              "    }\n",
              "\n",
              "    .dataframe thead th {\n",
              "        text-align: right;\n",
              "    }\n",
              "</style>\n",
              "<table border=\"1\" class=\"dataframe\">\n",
              "  <thead>\n",
              "    <tr style=\"text-align: right;\">\n",
              "      <th></th>\n",
              "      <th>age</th>\n",
              "      <th>bmi</th>\n",
              "      <th>children</th>\n",
              "      <th>charges</th>\n",
              "    </tr>\n",
              "  </thead>\n",
              "  <tbody>\n",
              "    <tr>\n",
              "      <th>count</th>\n",
              "      <td>1338.000000</td>\n",
              "      <td>1338.000000</td>\n",
              "      <td>1338.000000</td>\n",
              "      <td>1338.000000</td>\n",
              "    </tr>\n",
              "    <tr>\n",
              "      <th>mean</th>\n",
              "      <td>39.207025</td>\n",
              "      <td>30.663397</td>\n",
              "      <td>1.094918</td>\n",
              "      <td>13270.422265</td>\n",
              "    </tr>\n",
              "    <tr>\n",
              "      <th>std</th>\n",
              "      <td>14.049960</td>\n",
              "      <td>6.098187</td>\n",
              "      <td>1.205493</td>\n",
              "      <td>12110.011237</td>\n",
              "    </tr>\n",
              "    <tr>\n",
              "      <th>min</th>\n",
              "      <td>18.000000</td>\n",
              "      <td>15.960000</td>\n",
              "      <td>0.000000</td>\n",
              "      <td>1121.873900</td>\n",
              "    </tr>\n",
              "    <tr>\n",
              "      <th>25%</th>\n",
              "      <td>27.000000</td>\n",
              "      <td>26.296250</td>\n",
              "      <td>0.000000</td>\n",
              "      <td>4740.287150</td>\n",
              "    </tr>\n",
              "    <tr>\n",
              "      <th>50%</th>\n",
              "      <td>39.000000</td>\n",
              "      <td>30.400000</td>\n",
              "      <td>1.000000</td>\n",
              "      <td>9382.033000</td>\n",
              "    </tr>\n",
              "    <tr>\n",
              "      <th>75%</th>\n",
              "      <td>51.000000</td>\n",
              "      <td>34.693750</td>\n",
              "      <td>2.000000</td>\n",
              "      <td>16639.912515</td>\n",
              "    </tr>\n",
              "    <tr>\n",
              "      <th>max</th>\n",
              "      <td>64.000000</td>\n",
              "      <td>53.130000</td>\n",
              "      <td>5.000000</td>\n",
              "      <td>63770.428010</td>\n",
              "    </tr>\n",
              "  </tbody>\n",
              "</table>\n",
              "</div>"
            ],
            "text/plain": [
              "               age          bmi     children       charges\n",
              "count  1338.000000  1338.000000  1338.000000   1338.000000\n",
              "mean     39.207025    30.663397     1.094918  13270.422265\n",
              "std      14.049960     6.098187     1.205493  12110.011237\n",
              "min      18.000000    15.960000     0.000000   1121.873900\n",
              "25%      27.000000    26.296250     0.000000   4740.287150\n",
              "50%      39.000000    30.400000     1.000000   9382.033000\n",
              "75%      51.000000    34.693750     2.000000  16639.912515\n",
              "max      64.000000    53.130000     5.000000  63770.428010"
            ]
          },
          "execution_count": 2,
          "metadata": {},
          "output_type": "execute_result"
        }
      ],
      "source": [
        "df.describe()"
      ]
    },
    {
      "cell_type": "code",
      "execution_count": 3,
      "metadata": {
        "colab": {
          "base_uri": "https://localhost:8080/",
          "height": 206
        },
        "id": "-9FEnNX6Qs6N",
        "outputId": "4c906b6f-3853-40f6-be37-93977e91a084"
      },
      "outputs": [
        {
          "data": {
            "text/html": [
              "<div>\n",
              "<style scoped>\n",
              "    .dataframe tbody tr th:only-of-type {\n",
              "        vertical-align: middle;\n",
              "    }\n",
              "\n",
              "    .dataframe tbody tr th {\n",
              "        vertical-align: top;\n",
              "    }\n",
              "\n",
              "    .dataframe thead th {\n",
              "        text-align: right;\n",
              "    }\n",
              "</style>\n",
              "<table border=\"1\" class=\"dataframe\">\n",
              "  <thead>\n",
              "    <tr style=\"text-align: right;\">\n",
              "      <th></th>\n",
              "      <th>age</th>\n",
              "      <th>sex</th>\n",
              "      <th>bmi</th>\n",
              "      <th>children</th>\n",
              "      <th>smoker</th>\n",
              "      <th>region</th>\n",
              "      <th>charges</th>\n",
              "    </tr>\n",
              "  </thead>\n",
              "  <tbody>\n",
              "    <tr>\n",
              "      <th>1333</th>\n",
              "      <td>50</td>\n",
              "      <td>male</td>\n",
              "      <td>30.97</td>\n",
              "      <td>3</td>\n",
              "      <td>no</td>\n",
              "      <td>northwest</td>\n",
              "      <td>10600.5483</td>\n",
              "    </tr>\n",
              "    <tr>\n",
              "      <th>1334</th>\n",
              "      <td>18</td>\n",
              "      <td>female</td>\n",
              "      <td>31.92</td>\n",
              "      <td>0</td>\n",
              "      <td>no</td>\n",
              "      <td>northeast</td>\n",
              "      <td>2205.9808</td>\n",
              "    </tr>\n",
              "    <tr>\n",
              "      <th>1335</th>\n",
              "      <td>18</td>\n",
              "      <td>female</td>\n",
              "      <td>36.85</td>\n",
              "      <td>0</td>\n",
              "      <td>no</td>\n",
              "      <td>southeast</td>\n",
              "      <td>1629.8335</td>\n",
              "    </tr>\n",
              "    <tr>\n",
              "      <th>1336</th>\n",
              "      <td>21</td>\n",
              "      <td>female</td>\n",
              "      <td>25.80</td>\n",
              "      <td>0</td>\n",
              "      <td>no</td>\n",
              "      <td>southwest</td>\n",
              "      <td>2007.9450</td>\n",
              "    </tr>\n",
              "    <tr>\n",
              "      <th>1337</th>\n",
              "      <td>61</td>\n",
              "      <td>female</td>\n",
              "      <td>29.07</td>\n",
              "      <td>0</td>\n",
              "      <td>yes</td>\n",
              "      <td>northwest</td>\n",
              "      <td>29141.3603</td>\n",
              "    </tr>\n",
              "  </tbody>\n",
              "</table>\n",
              "</div>"
            ],
            "text/plain": [
              "      age     sex    bmi  children smoker     region     charges\n",
              "1333   50    male  30.97         3     no  northwest  10600.5483\n",
              "1334   18  female  31.92         0     no  northeast   2205.9808\n",
              "1335   18  female  36.85         0     no  southeast   1629.8335\n",
              "1336   21  female  25.80         0     no  southwest   2007.9450\n",
              "1337   61  female  29.07         0    yes  northwest  29141.3603"
            ]
          },
          "execution_count": 3,
          "metadata": {},
          "output_type": "execute_result"
        }
      ],
      "source": [
        "df.tail()"
      ]
    },
    {
      "cell_type": "code",
      "execution_count": 4,
      "metadata": {
        "colab": {
          "base_uri": "https://localhost:8080/",
          "height": 206
        },
        "id": "dS1_BQqMQuQ9",
        "outputId": "be45e7c3-4c6e-4b21-dc69-6096405226f1"
      },
      "outputs": [
        {
          "data": {
            "text/html": [
              "<div>\n",
              "<style scoped>\n",
              "    .dataframe tbody tr th:only-of-type {\n",
              "        vertical-align: middle;\n",
              "    }\n",
              "\n",
              "    .dataframe tbody tr th {\n",
              "        vertical-align: top;\n",
              "    }\n",
              "\n",
              "    .dataframe thead th {\n",
              "        text-align: right;\n",
              "    }\n",
              "</style>\n",
              "<table border=\"1\" class=\"dataframe\">\n",
              "  <thead>\n",
              "    <tr style=\"text-align: right;\">\n",
              "      <th></th>\n",
              "      <th>age</th>\n",
              "      <th>sex</th>\n",
              "      <th>bmi</th>\n",
              "      <th>children</th>\n",
              "      <th>smoker</th>\n",
              "      <th>region</th>\n",
              "      <th>charges</th>\n",
              "    </tr>\n",
              "  </thead>\n",
              "  <tbody>\n",
              "    <tr>\n",
              "      <th>0</th>\n",
              "      <td>19</td>\n",
              "      <td>female</td>\n",
              "      <td>27.900</td>\n",
              "      <td>0</td>\n",
              "      <td>yes</td>\n",
              "      <td>southwest</td>\n",
              "      <td>16884.92400</td>\n",
              "    </tr>\n",
              "    <tr>\n",
              "      <th>1</th>\n",
              "      <td>18</td>\n",
              "      <td>male</td>\n",
              "      <td>33.770</td>\n",
              "      <td>1</td>\n",
              "      <td>no</td>\n",
              "      <td>southeast</td>\n",
              "      <td>1725.55230</td>\n",
              "    </tr>\n",
              "    <tr>\n",
              "      <th>2</th>\n",
              "      <td>28</td>\n",
              "      <td>male</td>\n",
              "      <td>33.000</td>\n",
              "      <td>3</td>\n",
              "      <td>no</td>\n",
              "      <td>southeast</td>\n",
              "      <td>4449.46200</td>\n",
              "    </tr>\n",
              "    <tr>\n",
              "      <th>3</th>\n",
              "      <td>33</td>\n",
              "      <td>male</td>\n",
              "      <td>22.705</td>\n",
              "      <td>0</td>\n",
              "      <td>no</td>\n",
              "      <td>northwest</td>\n",
              "      <td>21984.47061</td>\n",
              "    </tr>\n",
              "    <tr>\n",
              "      <th>4</th>\n",
              "      <td>32</td>\n",
              "      <td>male</td>\n",
              "      <td>28.880</td>\n",
              "      <td>0</td>\n",
              "      <td>no</td>\n",
              "      <td>northwest</td>\n",
              "      <td>3866.85520</td>\n",
              "    </tr>\n",
              "  </tbody>\n",
              "</table>\n",
              "</div>"
            ],
            "text/plain": [
              "   age     sex     bmi  children smoker     region      charges\n",
              "0   19  female  27.900         0    yes  southwest  16884.92400\n",
              "1   18    male  33.770         1     no  southeast   1725.55230\n",
              "2   28    male  33.000         3     no  southeast   4449.46200\n",
              "3   33    male  22.705         0     no  northwest  21984.47061\n",
              "4   32    male  28.880         0     no  northwest   3866.85520"
            ]
          },
          "execution_count": 4,
          "metadata": {},
          "output_type": "execute_result"
        }
      ],
      "source": [
        "df.head()"
      ]
    },
    {
      "cell_type": "code",
      "execution_count": 5,
      "metadata": {
        "colab": {
          "base_uri": "https://localhost:8080/"
        },
        "id": "MBrS4rxLQv2d",
        "outputId": "1b33dfac-6808-49bf-b179-813b1676950a"
      },
      "outputs": [
        {
          "data": {
            "text/plain": [
              "age         0\n",
              "sex         0\n",
              "bmi         0\n",
              "children    0\n",
              "smoker      0\n",
              "region      0\n",
              "charges     0\n",
              "dtype: int64"
            ]
          },
          "execution_count": 5,
          "metadata": {},
          "output_type": "execute_result"
        }
      ],
      "source": [
        "df.isnull().sum()"
      ]
    },
    {
      "cell_type": "code",
      "execution_count": 6,
      "metadata": {
        "id": "DDAs63qhQz8n"
      },
      "outputs": [],
      "source": [
        "df.smoker=df.smoker.replace(\"no\",\"0\")\n",
        "df.smoker=df.smoker.replace(\"yes\",\"1\")"
      ]
    },
    {
      "cell_type": "code",
      "execution_count": 7,
      "metadata": {
        "id": "RsQl1MFvRO4R"
      },
      "outputs": [],
      "source": [
        "df.sex=df.sex.replace(\"male\",\"0\")\n",
        "df.sex=df.sex.replace(\"female\",\"1\")"
      ]
    },
    {
      "cell_type": "code",
      "execution_count": 8,
      "metadata": {
        "id": "SV7vRrI9ReBP"
      },
      "outputs": [],
      "source": [
        "df.region=df.region.replace(\"northeast\",\"0\")\n",
        "df.region=df.region.replace(\"northwest\",\"1\")\n",
        "df.region=df.region.replace(\"southeast\",\"2\")\n",
        "df.region=df.region.replace(\"southwest\",\"3\")"
      ]
    },
    {
      "cell_type": "code",
      "execution_count": 9,
      "metadata": {
        "colab": {
          "base_uri": "https://localhost:8080/",
          "height": 424
        },
        "id": "VjxcpH4QSEkg",
        "outputId": "7f314a71-8994-4882-e63c-0266d091c676"
      },
      "outputs": [
        {
          "data": {
            "text/html": [
              "<div>\n",
              "<style scoped>\n",
              "    .dataframe tbody tr th:only-of-type {\n",
              "        vertical-align: middle;\n",
              "    }\n",
              "\n",
              "    .dataframe tbody tr th {\n",
              "        vertical-align: top;\n",
              "    }\n",
              "\n",
              "    .dataframe thead th {\n",
              "        text-align: right;\n",
              "    }\n",
              "</style>\n",
              "<table border=\"1\" class=\"dataframe\">\n",
              "  <thead>\n",
              "    <tr style=\"text-align: right;\">\n",
              "      <th></th>\n",
              "      <th>age</th>\n",
              "      <th>sex</th>\n",
              "      <th>bmi</th>\n",
              "      <th>children</th>\n",
              "      <th>smoker</th>\n",
              "      <th>region</th>\n",
              "      <th>charges</th>\n",
              "    </tr>\n",
              "  </thead>\n",
              "  <tbody>\n",
              "    <tr>\n",
              "      <th>0</th>\n",
              "      <td>19</td>\n",
              "      <td>1</td>\n",
              "      <td>27.900</td>\n",
              "      <td>0</td>\n",
              "      <td>1</td>\n",
              "      <td>3</td>\n",
              "      <td>16884.92400</td>\n",
              "    </tr>\n",
              "    <tr>\n",
              "      <th>1</th>\n",
              "      <td>18</td>\n",
              "      <td>0</td>\n",
              "      <td>33.770</td>\n",
              "      <td>1</td>\n",
              "      <td>0</td>\n",
              "      <td>2</td>\n",
              "      <td>1725.55230</td>\n",
              "    </tr>\n",
              "    <tr>\n",
              "      <th>2</th>\n",
              "      <td>28</td>\n",
              "      <td>0</td>\n",
              "      <td>33.000</td>\n",
              "      <td>3</td>\n",
              "      <td>0</td>\n",
              "      <td>2</td>\n",
              "      <td>4449.46200</td>\n",
              "    </tr>\n",
              "    <tr>\n",
              "      <th>3</th>\n",
              "      <td>33</td>\n",
              "      <td>0</td>\n",
              "      <td>22.705</td>\n",
              "      <td>0</td>\n",
              "      <td>0</td>\n",
              "      <td>1</td>\n",
              "      <td>21984.47061</td>\n",
              "    </tr>\n",
              "    <tr>\n",
              "      <th>4</th>\n",
              "      <td>32</td>\n",
              "      <td>0</td>\n",
              "      <td>28.880</td>\n",
              "      <td>0</td>\n",
              "      <td>0</td>\n",
              "      <td>1</td>\n",
              "      <td>3866.85520</td>\n",
              "    </tr>\n",
              "    <tr>\n",
              "      <th>...</th>\n",
              "      <td>...</td>\n",
              "      <td>...</td>\n",
              "      <td>...</td>\n",
              "      <td>...</td>\n",
              "      <td>...</td>\n",
              "      <td>...</td>\n",
              "      <td>...</td>\n",
              "    </tr>\n",
              "    <tr>\n",
              "      <th>1333</th>\n",
              "      <td>50</td>\n",
              "      <td>0</td>\n",
              "      <td>30.970</td>\n",
              "      <td>3</td>\n",
              "      <td>0</td>\n",
              "      <td>1</td>\n",
              "      <td>10600.54830</td>\n",
              "    </tr>\n",
              "    <tr>\n",
              "      <th>1334</th>\n",
              "      <td>18</td>\n",
              "      <td>1</td>\n",
              "      <td>31.920</td>\n",
              "      <td>0</td>\n",
              "      <td>0</td>\n",
              "      <td>0</td>\n",
              "      <td>2205.98080</td>\n",
              "    </tr>\n",
              "    <tr>\n",
              "      <th>1335</th>\n",
              "      <td>18</td>\n",
              "      <td>1</td>\n",
              "      <td>36.850</td>\n",
              "      <td>0</td>\n",
              "      <td>0</td>\n",
              "      <td>2</td>\n",
              "      <td>1629.83350</td>\n",
              "    </tr>\n",
              "    <tr>\n",
              "      <th>1336</th>\n",
              "      <td>21</td>\n",
              "      <td>1</td>\n",
              "      <td>25.800</td>\n",
              "      <td>0</td>\n",
              "      <td>0</td>\n",
              "      <td>3</td>\n",
              "      <td>2007.94500</td>\n",
              "    </tr>\n",
              "    <tr>\n",
              "      <th>1337</th>\n",
              "      <td>61</td>\n",
              "      <td>1</td>\n",
              "      <td>29.070</td>\n",
              "      <td>0</td>\n",
              "      <td>1</td>\n",
              "      <td>1</td>\n",
              "      <td>29141.36030</td>\n",
              "    </tr>\n",
              "  </tbody>\n",
              "</table>\n",
              "<p>1338 rows × 7 columns</p>\n",
              "</div>"
            ],
            "text/plain": [
              "      age sex     bmi  children smoker region      charges\n",
              "0      19   1  27.900         0      1      3  16884.92400\n",
              "1      18   0  33.770         1      0      2   1725.55230\n",
              "2      28   0  33.000         3      0      2   4449.46200\n",
              "3      33   0  22.705         0      0      1  21984.47061\n",
              "4      32   0  28.880         0      0      1   3866.85520\n",
              "...   ...  ..     ...       ...    ...    ...          ...\n",
              "1333   50   0  30.970         3      0      1  10600.54830\n",
              "1334   18   1  31.920         0      0      0   2205.98080\n",
              "1335   18   1  36.850         0      0      2   1629.83350\n",
              "1336   21   1  25.800         0      0      3   2007.94500\n",
              "1337   61   1  29.070         0      1      1  29141.36030\n",
              "\n",
              "[1338 rows x 7 columns]"
            ]
          },
          "execution_count": 9,
          "metadata": {},
          "output_type": "execute_result"
        }
      ],
      "source": [
        "df"
      ]
    },
    {
      "cell_type": "code",
      "execution_count": 10,
      "metadata": {
        "id": "Aa1UItaOSGMn"
      },
      "outputs": [],
      "source": [
        "dep_var = df.drop(['age','sex','bmi','children','smoker','region'], axis='columns')\n",
        "ind_var = df.drop(['charges'], axis='columns')"
      ]
    },
    {
      "cell_type": "code",
      "execution_count": 11,
      "metadata": {
        "colab": {
          "base_uri": "https://localhost:8080/",
          "height": 424
        },
        "id": "d-0cz5xTTqaJ",
        "outputId": "a1db9a00-739b-471b-a8c8-ba022b8d7fc6"
      },
      "outputs": [
        {
          "data": {
            "text/html": [
              "<div>\n",
              "<style scoped>\n",
              "    .dataframe tbody tr th:only-of-type {\n",
              "        vertical-align: middle;\n",
              "    }\n",
              "\n",
              "    .dataframe tbody tr th {\n",
              "        vertical-align: top;\n",
              "    }\n",
              "\n",
              "    .dataframe thead th {\n",
              "        text-align: right;\n",
              "    }\n",
              "</style>\n",
              "<table border=\"1\" class=\"dataframe\">\n",
              "  <thead>\n",
              "    <tr style=\"text-align: right;\">\n",
              "      <th></th>\n",
              "      <th>charges</th>\n",
              "    </tr>\n",
              "  </thead>\n",
              "  <tbody>\n",
              "    <tr>\n",
              "      <th>0</th>\n",
              "      <td>16884.92400</td>\n",
              "    </tr>\n",
              "    <tr>\n",
              "      <th>1</th>\n",
              "      <td>1725.55230</td>\n",
              "    </tr>\n",
              "    <tr>\n",
              "      <th>2</th>\n",
              "      <td>4449.46200</td>\n",
              "    </tr>\n",
              "    <tr>\n",
              "      <th>3</th>\n",
              "      <td>21984.47061</td>\n",
              "    </tr>\n",
              "    <tr>\n",
              "      <th>4</th>\n",
              "      <td>3866.85520</td>\n",
              "    </tr>\n",
              "    <tr>\n",
              "      <th>...</th>\n",
              "      <td>...</td>\n",
              "    </tr>\n",
              "    <tr>\n",
              "      <th>1333</th>\n",
              "      <td>10600.54830</td>\n",
              "    </tr>\n",
              "    <tr>\n",
              "      <th>1334</th>\n",
              "      <td>2205.98080</td>\n",
              "    </tr>\n",
              "    <tr>\n",
              "      <th>1335</th>\n",
              "      <td>1629.83350</td>\n",
              "    </tr>\n",
              "    <tr>\n",
              "      <th>1336</th>\n",
              "      <td>2007.94500</td>\n",
              "    </tr>\n",
              "    <tr>\n",
              "      <th>1337</th>\n",
              "      <td>29141.36030</td>\n",
              "    </tr>\n",
              "  </tbody>\n",
              "</table>\n",
              "<p>1338 rows × 1 columns</p>\n",
              "</div>"
            ],
            "text/plain": [
              "          charges\n",
              "0     16884.92400\n",
              "1      1725.55230\n",
              "2      4449.46200\n",
              "3     21984.47061\n",
              "4      3866.85520\n",
              "...           ...\n",
              "1333  10600.54830\n",
              "1334   2205.98080\n",
              "1335   1629.83350\n",
              "1336   2007.94500\n",
              "1337  29141.36030\n",
              "\n",
              "[1338 rows x 1 columns]"
            ]
          },
          "execution_count": 11,
          "metadata": {},
          "output_type": "execute_result"
        }
      ],
      "source": [
        "dep_var"
      ]
    },
    {
      "cell_type": "code",
      "execution_count": 12,
      "metadata": {
        "colab": {
          "base_uri": "https://localhost:8080/",
          "height": 424
        },
        "id": "1dwHDbYyTsNo",
        "outputId": "cdac43d5-288f-4ca5-d3e7-ba2bbcb8f919"
      },
      "outputs": [
        {
          "data": {
            "text/html": [
              "<div>\n",
              "<style scoped>\n",
              "    .dataframe tbody tr th:only-of-type {\n",
              "        vertical-align: middle;\n",
              "    }\n",
              "\n",
              "    .dataframe tbody tr th {\n",
              "        vertical-align: top;\n",
              "    }\n",
              "\n",
              "    .dataframe thead th {\n",
              "        text-align: right;\n",
              "    }\n",
              "</style>\n",
              "<table border=\"1\" class=\"dataframe\">\n",
              "  <thead>\n",
              "    <tr style=\"text-align: right;\">\n",
              "      <th></th>\n",
              "      <th>age</th>\n",
              "      <th>sex</th>\n",
              "      <th>bmi</th>\n",
              "      <th>children</th>\n",
              "      <th>smoker</th>\n",
              "      <th>region</th>\n",
              "    </tr>\n",
              "  </thead>\n",
              "  <tbody>\n",
              "    <tr>\n",
              "      <th>0</th>\n",
              "      <td>19</td>\n",
              "      <td>1</td>\n",
              "      <td>27.900</td>\n",
              "      <td>0</td>\n",
              "      <td>1</td>\n",
              "      <td>3</td>\n",
              "    </tr>\n",
              "    <tr>\n",
              "      <th>1</th>\n",
              "      <td>18</td>\n",
              "      <td>0</td>\n",
              "      <td>33.770</td>\n",
              "      <td>1</td>\n",
              "      <td>0</td>\n",
              "      <td>2</td>\n",
              "    </tr>\n",
              "    <tr>\n",
              "      <th>2</th>\n",
              "      <td>28</td>\n",
              "      <td>0</td>\n",
              "      <td>33.000</td>\n",
              "      <td>3</td>\n",
              "      <td>0</td>\n",
              "      <td>2</td>\n",
              "    </tr>\n",
              "    <tr>\n",
              "      <th>3</th>\n",
              "      <td>33</td>\n",
              "      <td>0</td>\n",
              "      <td>22.705</td>\n",
              "      <td>0</td>\n",
              "      <td>0</td>\n",
              "      <td>1</td>\n",
              "    </tr>\n",
              "    <tr>\n",
              "      <th>4</th>\n",
              "      <td>32</td>\n",
              "      <td>0</td>\n",
              "      <td>28.880</td>\n",
              "      <td>0</td>\n",
              "      <td>0</td>\n",
              "      <td>1</td>\n",
              "    </tr>\n",
              "    <tr>\n",
              "      <th>...</th>\n",
              "      <td>...</td>\n",
              "      <td>...</td>\n",
              "      <td>...</td>\n",
              "      <td>...</td>\n",
              "      <td>...</td>\n",
              "      <td>...</td>\n",
              "    </tr>\n",
              "    <tr>\n",
              "      <th>1333</th>\n",
              "      <td>50</td>\n",
              "      <td>0</td>\n",
              "      <td>30.970</td>\n",
              "      <td>3</td>\n",
              "      <td>0</td>\n",
              "      <td>1</td>\n",
              "    </tr>\n",
              "    <tr>\n",
              "      <th>1334</th>\n",
              "      <td>18</td>\n",
              "      <td>1</td>\n",
              "      <td>31.920</td>\n",
              "      <td>0</td>\n",
              "      <td>0</td>\n",
              "      <td>0</td>\n",
              "    </tr>\n",
              "    <tr>\n",
              "      <th>1335</th>\n",
              "      <td>18</td>\n",
              "      <td>1</td>\n",
              "      <td>36.850</td>\n",
              "      <td>0</td>\n",
              "      <td>0</td>\n",
              "      <td>2</td>\n",
              "    </tr>\n",
              "    <tr>\n",
              "      <th>1336</th>\n",
              "      <td>21</td>\n",
              "      <td>1</td>\n",
              "      <td>25.800</td>\n",
              "      <td>0</td>\n",
              "      <td>0</td>\n",
              "      <td>3</td>\n",
              "    </tr>\n",
              "    <tr>\n",
              "      <th>1337</th>\n",
              "      <td>61</td>\n",
              "      <td>1</td>\n",
              "      <td>29.070</td>\n",
              "      <td>0</td>\n",
              "      <td>1</td>\n",
              "      <td>1</td>\n",
              "    </tr>\n",
              "  </tbody>\n",
              "</table>\n",
              "<p>1338 rows × 6 columns</p>\n",
              "</div>"
            ],
            "text/plain": [
              "      age sex     bmi  children smoker region\n",
              "0      19   1  27.900         0      1      3\n",
              "1      18   0  33.770         1      0      2\n",
              "2      28   0  33.000         3      0      2\n",
              "3      33   0  22.705         0      0      1\n",
              "4      32   0  28.880         0      0      1\n",
              "...   ...  ..     ...       ...    ...    ...\n",
              "1333   50   0  30.970         3      0      1\n",
              "1334   18   1  31.920         0      0      0\n",
              "1335   18   1  36.850         0      0      2\n",
              "1336   21   1  25.800         0      0      3\n",
              "1337   61   1  29.070         0      1      1\n",
              "\n",
              "[1338 rows x 6 columns]"
            ]
          },
          "execution_count": 12,
          "metadata": {},
          "output_type": "execute_result"
        }
      ],
      "source": [
        "ind_var"
      ]
    },
    {
      "cell_type": "code",
      "execution_count": 13,
      "metadata": {
        "id": "VadTnMeVTuyA"
      },
      "outputs": [],
      "source": [
        "#split into training and test set\n",
        "from sklearn.model_selection import train_test_split\n",
        "X_train, X_test, y_train, y_test = train_test_split(ind_var, dep_var, test_size = 0.2)"
      ]
    },
    {
      "cell_type": "code",
      "execution_count": 14,
      "metadata": {
        "colab": {
          "base_uri": "https://localhost:8080/"
        },
        "id": "DS9NzYQFT1M_",
        "outputId": "9076fc42-c972-4ea1-b898-2b0cfb384d18"
      },
      "outputs": [
        {
          "data": {
            "text/plain": [
              "(1070, 6)"
            ]
          },
          "execution_count": 14,
          "metadata": {},
          "output_type": "execute_result"
        }
      ],
      "source": [
        "X_train.shape"
      ]
    },
    {
      "cell_type": "code",
      "execution_count": 15,
      "metadata": {
        "colab": {
          "base_uri": "https://localhost:8080/"
        },
        "id": "YdeGj3LaT4Ne",
        "outputId": "58083649-acdb-437e-95a4-e416dbce70da"
      },
      "outputs": [
        {
          "data": {
            "text/plain": [
              "(268, 6)"
            ]
          },
          "execution_count": 15,
          "metadata": {},
          "output_type": "execute_result"
        }
      ],
      "source": [
        "X_test.shape"
      ]
    },
    {
      "cell_type": "code",
      "execution_count": 16,
      "metadata": {
        "colab": {
          "base_uri": "https://localhost:8080/"
        },
        "id": "ZAzWgTgYT6Tn",
        "outputId": "c73efeaf-0373-459a-8c27-d891a2ceade7"
      },
      "outputs": [
        {
          "data": {
            "text/plain": [
              "(1070, 1)"
            ]
          },
          "execution_count": 16,
          "metadata": {},
          "output_type": "execute_result"
        }
      ],
      "source": [
        "y_train.shape"
      ]
    },
    {
      "cell_type": "code",
      "execution_count": 17,
      "metadata": {
        "colab": {
          "base_uri": "https://localhost:8080/"
        },
        "id": "RUr4xF1pT77_",
        "outputId": "88436f64-4f8b-4424-dea5-b450f1772e43"
      },
      "outputs": [
        {
          "data": {
            "text/plain": [
              "(268, 1)"
            ]
          },
          "execution_count": 17,
          "metadata": {},
          "output_type": "execute_result"
        }
      ],
      "source": [
        "y_test.shape"
      ]
    },
    {
      "cell_type": "code",
      "execution_count": 18,
      "metadata": {
        "colab": {
          "base_uri": "https://localhost:8080/",
          "height": 75
        },
        "id": "5zPVYEcfT9nn",
        "outputId": "ae5fea37-861a-46c1-c61c-3fb6ee7510b8"
      },
      "outputs": [
        {
          "data": {
            "text/html": [
              "<style>#sk-container-id-1 {color: black;}#sk-container-id-1 pre{padding: 0;}#sk-container-id-1 div.sk-toggleable {background-color: white;}#sk-container-id-1 label.sk-toggleable__label {cursor: pointer;display: block;width: 100%;margin-bottom: 0;padding: 0.3em;box-sizing: border-box;text-align: center;}#sk-container-id-1 label.sk-toggleable__label-arrow:before {content: \"▸\";float: left;margin-right: 0.25em;color: #696969;}#sk-container-id-1 label.sk-toggleable__label-arrow:hover:before {color: black;}#sk-container-id-1 div.sk-estimator:hover label.sk-toggleable__label-arrow:before {color: black;}#sk-container-id-1 div.sk-toggleable__content {max-height: 0;max-width: 0;overflow: hidden;text-align: left;background-color: #f0f8ff;}#sk-container-id-1 div.sk-toggleable__content pre {margin: 0.2em;color: black;border-radius: 0.25em;background-color: #f0f8ff;}#sk-container-id-1 input.sk-toggleable__control:checked~div.sk-toggleable__content {max-height: 200px;max-width: 100%;overflow: auto;}#sk-container-id-1 input.sk-toggleable__control:checked~label.sk-toggleable__label-arrow:before {content: \"▾\";}#sk-container-id-1 div.sk-estimator input.sk-toggleable__control:checked~label.sk-toggleable__label {background-color: #d4ebff;}#sk-container-id-1 div.sk-label input.sk-toggleable__control:checked~label.sk-toggleable__label {background-color: #d4ebff;}#sk-container-id-1 input.sk-hidden--visually {border: 0;clip: rect(1px 1px 1px 1px);clip: rect(1px, 1px, 1px, 1px);height: 1px;margin: -1px;overflow: hidden;padding: 0;position: absolute;width: 1px;}#sk-container-id-1 div.sk-estimator {font-family: monospace;background-color: #f0f8ff;border: 1px dotted black;border-radius: 0.25em;box-sizing: border-box;margin-bottom: 0.5em;}#sk-container-id-1 div.sk-estimator:hover {background-color: #d4ebff;}#sk-container-id-1 div.sk-parallel-item::after {content: \"\";width: 100%;border-bottom: 1px solid gray;flex-grow: 1;}#sk-container-id-1 div.sk-label:hover label.sk-toggleable__label {background-color: #d4ebff;}#sk-container-id-1 div.sk-serial::before {content: \"\";position: absolute;border-left: 1px solid gray;box-sizing: border-box;top: 0;bottom: 0;left: 50%;z-index: 0;}#sk-container-id-1 div.sk-serial {display: flex;flex-direction: column;align-items: center;background-color: white;padding-right: 0.2em;padding-left: 0.2em;position: relative;}#sk-container-id-1 div.sk-item {position: relative;z-index: 1;}#sk-container-id-1 div.sk-parallel {display: flex;align-items: stretch;justify-content: center;background-color: white;position: relative;}#sk-container-id-1 div.sk-item::before, #sk-container-id-1 div.sk-parallel-item::before {content: \"\";position: absolute;border-left: 1px solid gray;box-sizing: border-box;top: 0;bottom: 0;left: 50%;z-index: -1;}#sk-container-id-1 div.sk-parallel-item {display: flex;flex-direction: column;z-index: 1;position: relative;background-color: white;}#sk-container-id-1 div.sk-parallel-item:first-child::after {align-self: flex-end;width: 50%;}#sk-container-id-1 div.sk-parallel-item:last-child::after {align-self: flex-start;width: 50%;}#sk-container-id-1 div.sk-parallel-item:only-child::after {width: 0;}#sk-container-id-1 div.sk-dashed-wrapped {border: 1px dashed gray;margin: 0 0.4em 0.5em 0.4em;box-sizing: border-box;padding-bottom: 0.4em;background-color: white;}#sk-container-id-1 div.sk-label label {font-family: monospace;font-weight: bold;display: inline-block;line-height: 1.2em;}#sk-container-id-1 div.sk-label-container {text-align: center;}#sk-container-id-1 div.sk-container {/* jupyter's `normalize.less` sets `[hidden] { display: none; }` but bootstrap.min.css set `[hidden] { display: none !important; }` so we also need the `!important` here to be able to override the default hidden behavior on the sphinx rendered scikit-learn.org. See: https://github.com/scikit-learn/scikit-learn/issues/21755 */display: inline-block !important;position: relative;}#sk-container-id-1 div.sk-text-repr-fallback {display: none;}</style><div id=\"sk-container-id-1\" class=\"sk-top-container\"><div class=\"sk-text-repr-fallback\"><pre>LinearRegression()</pre><b>In a Jupyter environment, please rerun this cell to show the HTML representation or trust the notebook. <br />On GitHub, the HTML representation is unable to render, please try loading this page with nbviewer.org.</b></div><div class=\"sk-container\" hidden><div class=\"sk-item\"><div class=\"sk-estimator sk-toggleable\"><input class=\"sk-toggleable__control sk-hidden--visually\" id=\"sk-estimator-id-1\" type=\"checkbox\" checked><label for=\"sk-estimator-id-1\" class=\"sk-toggleable__label sk-toggleable__label-arrow\">LinearRegression</label><div class=\"sk-toggleable__content\"><pre>LinearRegression()</pre></div></div></div></div></div>"
            ],
            "text/plain": [
              "LinearRegression()"
            ]
          },
          "execution_count": 18,
          "metadata": {},
          "output_type": "execute_result"
        }
      ],
      "source": [
        "from sklearn.linear_model import LinearRegression\n",
        "reg = LinearRegression()\n",
        "reg.fit(X_train,y_train)"
      ]
    },
    {
      "cell_type": "code",
      "execution_count": 19,
      "metadata": {
        "id": "FlbgBfpiUC4P"
      },
      "outputs": [
        {
          "data": {
            "text/plain": [
              "array([[ 5.51023692e+03],\n",
              "       [ 3.61751801e+03],\n",
              "       [ 1.11974592e+04],\n",
              "       [ 3.63314068e+04],\n",
              "       [ 5.54624336e+03],\n",
              "       [ 1.76299529e+04],\n",
              "       [ 1.48652748e+04],\n",
              "       [ 6.15981250e+03],\n",
              "       [ 1.54083698e+04],\n",
              "       [ 2.99230772e+04],\n",
              "       [ 5.14875173e+03],\n",
              "       [ 3.72693809e+04],\n",
              "       [ 1.54945381e+04],\n",
              "       [ 6.36668434e+03],\n",
              "       [ 4.92507074e+03],\n",
              "       [-1.62001643e+01],\n",
              "       [ 9.30673346e+03],\n",
              "       [ 1.70571219e+04],\n",
              "       [ 5.56863441e+03],\n",
              "       [ 1.31446466e+04],\n",
              "       [ 1.60213896e+04],\n",
              "       [ 1.74793149e+03],\n",
              "       [ 4.81682189e+03],\n",
              "       [ 7.04242920e+03],\n",
              "       [ 2.72039986e+04],\n",
              "       [ 2.89217053e+04],\n",
              "       [ 2.46195916e+04],\n",
              "       [ 2.55171268e+03],\n",
              "       [ 8.96890772e+03],\n",
              "       [ 4.25724333e+03],\n",
              "       [ 3.58501941e+04],\n",
              "       [ 2.75085808e+04],\n",
              "       [ 9.30588376e+03],\n",
              "       [ 4.06514911e+04],\n",
              "       [ 2.92676158e+04],\n",
              "       [ 4.68538074e+03],\n",
              "       [ 2.90452405e+03],\n",
              "       [ 1.37644226e+04],\n",
              "       [ 1.40386641e+04],\n",
              "       [ 1.07164309e+04],\n",
              "       [ 4.13038222e+03],\n",
              "       [ 1.18948129e+04],\n",
              "       [ 3.94596497e+04],\n",
              "       [ 4.24555623e+03],\n",
              "       [ 3.10444420e+03],\n",
              "       [ 1.26563132e+04],\n",
              "       [ 1.51032030e+04],\n",
              "       [ 1.14129666e+04],\n",
              "       [ 9.22110641e+03],\n",
              "       [ 1.56935259e+04],\n",
              "       [-1.37413216e+03],\n",
              "       [ 1.86035022e+03],\n",
              "       [ 6.46170496e+03],\n",
              "       [ 6.48525201e+02],\n",
              "       [-3.96410124e+02],\n",
              "       [ 7.19861443e+03],\n",
              "       [ 7.69013042e+03],\n",
              "       [ 3.60358105e+04],\n",
              "       [ 4.74746050e+03],\n",
              "       [ 5.92338060e+03],\n",
              "       [ 2.81404376e+03],\n",
              "       [ 1.69128268e+04],\n",
              "       [ 1.82886054e+03],\n",
              "       [-1.95828528e+03],\n",
              "       [ 1.24856790e+04],\n",
              "       [ 3.43417805e+04],\n",
              "       [ 1.48999425e+04],\n",
              "       [ 1.34611770e+04],\n",
              "       [ 1.38461880e+03],\n",
              "       [ 2.83628187e+04],\n",
              "       [ 1.57271620e+04],\n",
              "       [ 1.38117442e+04],\n",
              "       [ 8.26970811e+03],\n",
              "       [ 1.24710744e+04],\n",
              "       [ 1.26749814e+04],\n",
              "       [ 1.27798788e+04],\n",
              "       [ 3.41251733e+04],\n",
              "       [ 1.14541564e+04],\n",
              "       [ 2.53749369e+04],\n",
              "       [ 1.16697389e+04],\n",
              "       [ 7.65622755e+03],\n",
              "       [ 8.51777871e+03],\n",
              "       [ 1.07762814e+04],\n",
              "       [ 3.41808447e+04],\n",
              "       [ 2.49944217e+04],\n",
              "       [ 7.21218852e+03],\n",
              "       [ 5.53800798e+03],\n",
              "       [ 1.00046228e+04],\n",
              "       [ 1.38252023e+04],\n",
              "       [ 2.75226265e+04],\n",
              "       [ 1.29411266e+04],\n",
              "       [ 3.65153020e+03],\n",
              "       [ 7.01389117e+03],\n",
              "       [ 8.85210189e+03],\n",
              "       [ 1.61273549e+04],\n",
              "       [ 5.04754834e+03],\n",
              "       [ 1.17665547e+04],\n",
              "       [ 2.18046345e+03],\n",
              "       [ 1.46184979e+04],\n",
              "       [ 4.33748854e+03],\n",
              "       [ 2.72034051e+03],\n",
              "       [ 8.86509886e+03],\n",
              "       [ 3.23832240e+04],\n",
              "       [ 9.66668677e+03],\n",
              "       [ 3.09597509e+04],\n",
              "       [ 2.86800789e+04],\n",
              "       [ 1.21964347e+04],\n",
              "       [ 4.27717197e+03],\n",
              "       [ 3.18406829e+04],\n",
              "       [ 4.05615058e+03],\n",
              "       [ 3.18896453e+04],\n",
              "       [ 5.49943884e+03],\n",
              "       [ 9.85297377e+03],\n",
              "       [ 8.90219986e+03],\n",
              "       [ 2.91948049e+03],\n",
              "       [ 1.05921598e+04],\n",
              "       [ 5.87606301e+03],\n",
              "       [ 6.33047491e+03],\n",
              "       [ 1.27021606e+04],\n",
              "       [ 7.26548214e+03],\n",
              "       [ 3.37248312e+04],\n",
              "       [ 3.09920425e+04],\n",
              "       [ 3.32482374e+04],\n",
              "       [ 8.18908747e+03],\n",
              "       [ 1.14437852e+04],\n",
              "       [ 1.40743323e+04],\n",
              "       [ 1.45373182e+04],\n",
              "       [ 7.84372669e+02],\n",
              "       [ 1.04277259e+04],\n",
              "       [ 1.05279102e+04],\n",
              "       [ 3.63251994e+04],\n",
              "       [ 2.60043772e+04],\n",
              "       [ 1.11297661e+04],\n",
              "       [ 3.94505164e+03],\n",
              "       [ 3.27171162e+04],\n",
              "       [ 1.36011786e+04],\n",
              "       [ 1.19998514e+04],\n",
              "       [ 3.08936986e+04],\n",
              "       [ 1.16399224e+04],\n",
              "       [ 1.22558416e+04],\n",
              "       [ 8.83786978e+03],\n",
              "       [ 1.34053176e+04],\n",
              "       [ 2.30102177e+03],\n",
              "       [ 3.63381143e+04],\n",
              "       [ 1.44753341e+04],\n",
              "       [ 8.86399564e+03],\n",
              "       [ 1.11209269e+04],\n",
              "       [ 1.51886048e+04],\n",
              "       [ 5.42898445e+03],\n",
              "       [ 1.29077555e+04],\n",
              "       [ 1.55411340e+04],\n",
              "       [ 1.60395949e+03],\n",
              "       [ 3.49901835e+03],\n",
              "       [ 3.26809240e+03],\n",
              "       [ 4.58006791e+03],\n",
              "       [ 7.83847481e+03],\n",
              "       [ 1.63333167e+04],\n",
              "       [ 1.40612397e+04],\n",
              "       [ 7.22481203e+03],\n",
              "       [ 5.42620045e+03],\n",
              "       [ 2.63400137e+03],\n",
              "       [ 5.41050167e+03],\n",
              "       [ 1.71854591e+04],\n",
              "       [ 1.98839764e+03],\n",
              "       [-7.44323128e+01],\n",
              "       [ 2.31044574e+04],\n",
              "       [ 3.89787331e+03],\n",
              "       [ 9.50079187e+03],\n",
              "       [ 1.09896011e+04],\n",
              "       [ 3.19266313e+03],\n",
              "       [ 1.72969436e+04],\n",
              "       [ 3.63172414e+01],\n",
              "       [ 1.42493914e+04],\n",
              "       [ 2.39939028e+03],\n",
              "       [ 6.52997317e+03],\n",
              "       [ 4.01519167e+04],\n",
              "       [ 8.34549601e+03],\n",
              "       [ 1.69262416e+04],\n",
              "       [ 1.14953361e+04],\n",
              "       [ 7.88922148e+03],\n",
              "       [ 7.34966386e+03],\n",
              "       [ 5.04159080e+03],\n",
              "       [ 2.42445676e+04],\n",
              "       [ 1.67568133e+03],\n",
              "       [ 2.95786348e+04],\n",
              "       [ 7.91111197e+03],\n",
              "       [ 3.97480426e+03],\n",
              "       [ 3.42158740e+03],\n",
              "       [ 3.75031212e+04],\n",
              "       [ 7.55826473e+03],\n",
              "       [ 2.34052800e+04],\n",
              "       [ 8.94236447e+03],\n",
              "       [ 2.07586136e+03],\n",
              "       [ 1.29244315e+04],\n",
              "       [ 1.22619527e+04],\n",
              "       [ 1.05233407e+04],\n",
              "       [ 1.08982196e+04],\n",
              "       [ 5.43572345e+03],\n",
              "       [ 3.52288538e+04],\n",
              "       [ 6.00576456e+03],\n",
              "       [ 2.37632758e+04],\n",
              "       [ 1.45117225e+04],\n",
              "       [ 1.10324670e+04],\n",
              "       [ 1.07846957e+04],\n",
              "       [ 1.14935298e+04],\n",
              "       [ 2.94309319e+03],\n",
              "       [ 1.48813828e+04],\n",
              "       [ 3.00082479e+03],\n",
              "       [ 7.85429350e+03],\n",
              "       [ 5.65483498e+03],\n",
              "       [ 9.70755639e+03],\n",
              "       [ 3.97487924e+03],\n",
              "       [ 8.14194630e+03],\n",
              "       [ 1.31016844e+04],\n",
              "       [ 9.36684688e+03],\n",
              "       [ 3.26796982e+03],\n",
              "       [ 4.13193499e+03],\n",
              "       [ 8.09049315e+03],\n",
              "       [ 2.70700626e+04],\n",
              "       [ 1.99986106e+03],\n",
              "       [ 1.17309224e+04],\n",
              "       [ 2.33462975e+03],\n",
              "       [ 1.79077869e+03],\n",
              "       [ 9.63468999e+03],\n",
              "       [ 3.86774058e+04],\n",
              "       [ 2.36605897e+03],\n",
              "       [ 1.35801786e+04],\n",
              "       [ 5.72827640e+03],\n",
              "       [ 1.16520606e+04],\n",
              "       [ 1.48828513e+04],\n",
              "       [ 7.44763775e+03],\n",
              "       [ 3.38735628e+04],\n",
              "       [ 3.40495184e+04],\n",
              "       [ 1.65294903e+04],\n",
              "       [ 5.74980468e+03],\n",
              "       [ 1.67755716e+03],\n",
              "       [ 2.65926378e+04],\n",
              "       [ 5.93617294e+03],\n",
              "       [ 1.38442863e+04],\n",
              "       [ 1.12141110e+04],\n",
              "       [ 6.15977663e+03],\n",
              "       [ 3.97202078e+04],\n",
              "       [ 1.40196985e+04],\n",
              "       [ 1.45177717e+04],\n",
              "       [ 3.33602273e+04],\n",
              "       [ 6.56099122e+03],\n",
              "       [ 7.62109110e+03],\n",
              "       [ 8.40684313e+03],\n",
              "       [ 4.49539033e+03],\n",
              "       [ 3.23639842e+03],\n",
              "       [ 3.74237581e+04],\n",
              "       [ 1.09158788e+04],\n",
              "       [ 2.75070597e+04],\n",
              "       [ 6.76792656e+03],\n",
              "       [ 1.33449557e+04],\n",
              "       [ 2.74423476e+04],\n",
              "       [-2.33736590e+03],\n",
              "       [ 9.75074588e+03],\n",
              "       [ 1.46455200e+03],\n",
              "       [ 6.59717907e+02],\n",
              "       [ 7.53772033e+03],\n",
              "       [ 3.31621911e+04],\n",
              "       [ 2.97499695e+04],\n",
              "       [ 9.81858976e+03],\n",
              "       [ 7.31682480e+03],\n",
              "       [ 1.40789607e+04],\n",
              "       [ 2.80642747e+04],\n",
              "       [ 8.97397969e+03]])"
            ]
          },
          "execution_count": 19,
          "metadata": {},
          "output_type": "execute_result"
        }
      ],
      "source": [
        "y_test_predict = reg.predict(X_test)\n",
        "y_test_predict"
      ]
    },
    {
      "cell_type": "code",
      "execution_count": 20,
      "metadata": {
        "colab": {
          "base_uri": "https://localhost:8080/"
        },
        "id": "zl9v7ekCUwaP",
        "outputId": "ceb3dba7-c6e5-403c-fb4f-11e824df76c7"
      },
      "outputs": [
        {
          "data": {
            "text/plain": [
              "array([-12720.62162024])"
            ]
          },
          "execution_count": 20,
          "metadata": {},
          "output_type": "execute_result"
        }
      ],
      "source": [
        "c=reg.intercept_\n",
        "c"
      ]
    },
    {
      "cell_type": "code",
      "execution_count": 21,
      "metadata": {
        "colab": {
          "base_uri": "https://localhost:8080/"
        },
        "id": "Iu0YXIxAUzI-",
        "outputId": "17f546bd-0b9c-432b-bfa6-194827b21027"
      },
      "outputs": [
        {
          "data": {
            "text/plain": [
              "array([[  266.42135815,   136.83569952,   344.01204912,   366.51950817,\n",
              "        24100.17630722,  -313.00008531]])"
            ]
          },
          "execution_count": 21,
          "metadata": {},
          "output_type": "execute_result"
        }
      ],
      "source": [
        "m=reg.coef_\n",
        "m"
      ]
    },
    {
      "cell_type": "code",
      "execution_count": null,
      "metadata": {
        "id": "Ut1rY1CrVHZA"
      },
      "outputs": [],
      "source": []
    }
  ],
  "metadata": {
    "colab": {
      "provenance": []
    },
    "kernelspec": {
      "display_name": "Python 3",
      "name": "python3"
    },
    "language_info": {
      "codemirror_mode": {
        "name": "ipython",
        "version": 3
      },
      "file_extension": ".py",
      "mimetype": "text/x-python",
      "name": "python",
      "nbconvert_exporter": "python",
      "pygments_lexer": "ipython3",
      "version": "3.11.5"
    }
  },
  "nbformat": 4,
  "nbformat_minor": 0
}
